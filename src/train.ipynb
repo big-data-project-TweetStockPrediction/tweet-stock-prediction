{
 "cells": [
  {
   "cell_type": "code",
   "execution_count": 1,
   "metadata": {},
   "outputs": [
    {
     "data": {
      "text/html": [
       "<style>.container { width:95% !important; } </style>"
      ],
      "text/plain": [
       "<IPython.core.display.HTML object>"
      ]
     },
     "metadata": {},
     "output_type": "display_data"
    }
   ],
   "source": [
    "from IPython.core.display import HTML\n",
    "display(HTML('<style>.container { width:95% !important; } </style>'))\n",
    "\n",
    "%load_ext autoreload\n",
    "%autoreload 2"
   ]
  },
  {
   "cell_type": "code",
   "execution_count": 2,
   "metadata": {},
   "outputs": [],
   "source": [
    "import numpy as np\n",
    "import matplotlib.pyplot as plt\n",
    "import seaborn as sns\n",
    "\n",
    "sns.set()"
   ]
  },
  {
   "cell_type": "code",
   "execution_count": 3,
   "metadata": {},
   "outputs": [
    {
     "name": "stderr",
     "output_type": "stream",
     "text": [
      "/home/chris/Developer/tweet-stock-prediction/venv/lib/python3.8/site-packages/tqdm/auto.py:22: TqdmWarning: IProgress not found. Please update jupyter and ipywidgets. See https://ipywidgets.readthedocs.io/en/stable/user_install.html\n",
      "  from .autonotebook import tqdm as notebook_tqdm\n"
     ]
    }
   ],
   "source": [
    "from bandit_learn import *"
   ]
  },
  {
   "cell_type": "code",
   "execution_count": 4,
   "metadata": {},
   "outputs": [],
   "source": [
    "n_sim = 1\n",
    "noise_std = 0.1\n",
    "n_arms=10\n",
    "n_features=10\n",
    "confidence_scaling_factor = noise_std\n",
    "\n",
    "SEED = 42\n",
    "np.random.seed(SEED)"
   ]
  },
  {
   "cell_type": "code",
   "execution_count": 5,
   "metadata": {},
   "outputs": [
    {
     "ename": "TypeError",
     "evalue": "loadFeatures() takes 1 positional argument but 2 were given",
     "output_type": "error",
     "traceback": [
      "\u001b[0;31m---------------------------------------------------------------------------\u001b[0m",
      "\u001b[0;31mTypeError\u001b[0m                                 Traceback (most recent call last)",
      "\u001b[1;32m/home/chris/Developer/tweet-stock-prediction/src/train.ipynb Cell 5'\u001b[0m in \u001b[0;36m<cell line: 7>\u001b[0;34m()\u001b[0m\n\u001b[1;32m      <a href='vscode-notebook-cell:/home/chris/Developer/tweet-stock-prediction/src/train.ipynb#ch0000004?line=0'>1</a>\u001b[0m fl \u001b[39m=\u001b[39m FeatureLoader(\n\u001b[1;32m      <a href='vscode-notebook-cell:/home/chris/Developer/tweet-stock-prediction/src/train.ipynb#ch0000004?line=1'>2</a>\u001b[0m     datasetDir\u001b[39m=\u001b[39m\u001b[39m\"\u001b[39m\u001b[39m../data/TSLA_2020_2022/processed_data/\u001b[39m\u001b[39m\"\u001b[39m,\n\u001b[1;32m      <a href='vscode-notebook-cell:/home/chris/Developer/tweet-stock-prediction/src/train.ipynb#ch0000004?line=2'>3</a>\u001b[0m     featuresDir\u001b[39m=\u001b[39m\u001b[39m\"\u001b[39m\u001b[39m../data/TSLA_2020_2022/features/\u001b[39m\u001b[39m\"\u001b[39m,\n\u001b[1;32m      <a href='vscode-notebook-cell:/home/chris/Developer/tweet-stock-prediction/src/train.ipynb#ch0000004?line=3'>4</a>\u001b[0m     n_arms\u001b[39m=\u001b[39m\u001b[39m10\u001b[39m,\n\u001b[1;32m      <a href='vscode-notebook-cell:/home/chris/Developer/tweet-stock-prediction/src/train.ipynb#ch0000004?line=4'>5</a>\u001b[0m     n_features\u001b[39m=\u001b[39m\u001b[39m10\u001b[39m,\n\u001b[1;32m      <a href='vscode-notebook-cell:/home/chris/Developer/tweet-stock-prediction/src/train.ipynb#ch0000004?line=5'>6</a>\u001b[0m )\n\u001b[0;32m----> <a href='vscode-notebook-cell:/home/chris/Developer/tweet-stock-prediction/src/train.ipynb#ch0000004?line=6'>7</a>\u001b[0m fl\u001b[39m.\u001b[39;49mloadFeatures(\u001b[39m0.1\u001b[39;49m)\n\u001b[1;32m      <a href='vscode-notebook-cell:/home/chris/Developer/tweet-stock-prediction/src/train.ipynb#ch0000004?line=7'>8</a>\u001b[0m \u001b[39mprint\u001b[39m(fl\u001b[39m.\u001b[39mT)\n\u001b[1;32m      <a href='vscode-notebook-cell:/home/chris/Developer/tweet-stock-prediction/src/train.ipynb#ch0000004?line=8'>9</a>\u001b[0m T \u001b[39m=\u001b[39m fl\u001b[39m.\u001b[39mT\n",
      "\u001b[0;31mTypeError\u001b[0m: loadFeatures() takes 1 positional argument but 2 were given"
     ]
    }
   ],
   "source": [
    "fl = FeatureLoader(\n",
    "    datasetDir=\"../data/TSLA_2020_2022/processed_data/\",\n",
    "    featuresDir=\"../data/TSLA_2020_2022/features/\",\n",
    "    n_arms=10,\n",
    "    n_features=10,\n",
    ")\n",
    "fl.loadFeatures(0.1)\n",
    "print(fl.T)\n",
    "T = fl.T"
   ]
  },
  {
   "cell_type": "code",
   "execution_count": null,
   "metadata": {},
   "outputs": [
    {
     "name": "stdout",
     "output_type": "stream",
     "text": [
      "Writing file to ../data/TSLA_2020_2022/stock_data/TSLA_2019-08-21_2022-05-12_2.csv\n"
     ]
    }
   ],
   "source": [
    "stockLoader = StockLoader(\"TSLA\")\n",
    "stockLoader.LoadStock(\n",
    "    columns=['Open', 'High', 'Low', 'Close'],\n",
    "    start='2019-08-21', end='2022-05-12',\n",
    "    dir='../data/TSLA_2020_2022/stock_data/',\n",
    "    days=2,\n",
    ")\n",
    "stockLoader.saveStock()"
   ]
  },
  {
   "cell_type": "code",
   "execution_count": null,
   "metadata": {},
   "outputs": [
    {
     "data": {
      "text/plain": [
       "872.7899780273438"
      ]
     },
     "execution_count": 7,
     "metadata": {},
     "output_type": "execute_result"
    }
   ],
   "source": [
    "stockLoader.df.loc[\"2021-02-02\",'tslaclose']"
   ]
  },
  {
   "cell_type": "code",
   "execution_count": null,
   "metadata": {},
   "outputs": [
    {
     "data": {
      "text/plain": [
       "Index(['Unnamed: 0', 'date', 'features', 'inference', 'confidence'], dtype='object')"
      ]
     },
     "execution_count": 8,
     "metadata": {},
     "output_type": "execute_result"
    }
   ],
   "source": [
    "fl.features_df.columns"
   ]
  },
  {
   "cell_type": "code",
   "execution_count": null,
   "metadata": {},
   "outputs": [
    {
     "name": "stdout",
     "output_type": "stream",
     "text": [
      "[########################################] | 100% Completed |  1.4s\n",
      "[########################################] | 100% Completed |  1.3s\n",
      "get rewards ...\n",
      "[########################################] | 100% Completed |  2.0s\n",
      "[########################################] | 100% Completed |  2.0s\n",
      "[########################################] | 100% Completed |  1.9s\n"
     ]
    }
   ],
   "source": [
    "b = ContextualBandit(\n",
    "    T=fl.T, n_arms=fl.n_arms, n_features=fl.n_features, feature_loader=fl, stock_loader=stockLoader, seed=SEED\n",
    ")"
   ]
  },
  {
   "cell_type": "code",
   "execution_count": null,
   "metadata": {},
   "outputs": [
    {
     "data": {
      "text/plain": [
       "(array([0, 1, 6, 1, 6, 6, 0, 0, 0, 0]),\n",
       " array([0.00676989, 0.02795008, 0.06121694, 0.16060121, 0.0817465 ,\n",
       "        0.08242662, 0.04308052, 0.11674527, 0.13706012, 0.20476064]),\n",
       " array([array([ 0.00676989, -0.00777787, -0.00777787, -0.00777787,  0.00676989,\n",
       "                0.00676989, -0.00777787,  0.00676989, -0.00777787,  0.00676989]),\n",
       "        array([-0.02708491,  0.02795008, -0.02791496, -0.02657542,  0.01730615,\n",
       "               -0.0280892 ,  0.02767395,  0.02795008, -0.0280892 , -0.02657542]),\n",
       "        array([-0.04593079, -0.06121694,  0.05016078,  0.05016078,  0.05016078,\n",
       "                0.05016078,  0.06121694, -0.06121694,  0.05016078, -0.04593079]),\n",
       "        array([0.1034325 , 0.16060121, 0.1034325 , 0.1034325 , 0.1034325 ,\n",
       "               0.16060121, 0.16060121, 0.1034325 , 0.1034325 , 0.16060121]),\n",
       "        array([-0.0817465, -0.0817465, -0.0817465, -0.0817465, -0.0817465,\n",
       "               -0.0817465,  0.0817465, -0.0817465, -0.0817465, -0.0817465]),\n",
       "        array([-0.08242662, -0.08242662, -0.08242662, -0.08242662, -0.08242662,\n",
       "               -0.08242662,  0.08242662, -0.08242662, -0.08242662, -0.08242662]),\n",
       "        array([ 0.04308052, -0.03631187, -0.03631187,  0.04308052, -0.03631187,\n",
       "                0.04308052, -0.04308052,  0.04308052, -0.03631187,  0.04308052]),\n",
       "        array([0.11674527, 0.11674527, 0.11674527, 0.11674527, 0.11674527,\n",
       "               0.11674527, 0.11674527, 0.11674527, 0.11674527, 0.11674527]),\n",
       "        array([ 0.13706012, -0.13580748, -0.13692581, -0.12908148, -0.1378984 ,\n",
       "               -0.13580748,  0.13580748, -0.13692581, -0.13580748, -0.12908148]),\n",
       "        array([0.20476064, 0.20476064, 0.20476064, 0.20476064, 0.20476064,\n",
       "               0.20476064, 0.20476064, 0.20476064, 0.20476064, 0.20476064])],\n",
       "       dtype=object))"
      ]
     },
     "execution_count": 13,
     "metadata": {},
     "output_type": "execute_result"
    }
   ],
   "source": [
    "# b.best_actions_oracle[0:10].compute(), b.best_rewards_oracle[0:10].compute(), b.rewards[0:10].compute()"
   ]
  },
  {
   "cell_type": "code",
   "execution_count": null,
   "metadata": {},
   "outputs": [
    {
     "name": "stderr",
     "output_type": "stream",
     "text": [
      "600it [09:26,  1.06it/s, total regret=17.7, % optimal arm=13.57%]                         \n"
     ]
    }
   ],
   "source": [
    "regrets = np.empty((1, T))\n",
    "\n",
    "model = LinUCB(\n",
    "    b,\n",
    "    reg_factor=1.0,\n",
    "    delta=0.1,\n",
    "    confidence_scaling_factor=confidence_scaling_factor,\n",
    ")\n",
    "model.run()\n",
    "regrets = np.cumsum(model.regrets)"
   ]
  },
  {
   "cell_type": "code",
   "execution_count": null,
   "metadata": {},
   "outputs": [
    {
     "data": {
      "image/png": "[encoded data removed]",
      "text/plain": [
       "<Figure size 792x288 with 1 Axes>"
      ]
     },
     "metadata": {
      "needs_background": "light"
     },
     "output_type": "display_data"
    }
   ],
   "source": [
    "fig, ax = plt.subplots(figsize=(11, 4), nrows=1, ncols=1)\n",
    "\n",
    "t = np.arange(T)\n",
    "# mean_regrets = np.mean(regrets, axis=0)\n",
    "std_regrets = np.std(regrets, axis=0) / np.sqrt(regrets.shape[0])\n",
    "ax.plot(regrets)\n",
    "# ax.fill_between(t, mean_regrets - 2*std_regrets, mean_regrets + 2*std_regrets, alpha=0.15)\n",
    "ax.fill_between(t, regrets - 6*std_regrets, regrets + 6*std_regrets, alpha=0.15)\n",
    "ax.set_title('Cumulative regret')\n",
    "\n",
    "plt.tight_layout()\n",
    "plt.show()\n",
    "\n",
    "# fig.savefig('figures/linucb_linear.pdf')"
   ]
  }
 ],
 "metadata": {
  "interpreter": {
   "hash": "5d7b3c5d55179cd19bcfe9ec0c739fe8c0616f500894f008c019174854c35a41"
  },
  "kernelspec": {
   "display_name": "Python 3.8.10 ('venv': venv)",
   "language": "python",
   "name": "python3"
  },
  "language_info": {
   "codemirror_mode": {
    "name": "ipython",
    "version": 3
   },
   "file_extension": ".py",
   "mimetype": "text/x-python",
   "name": "python",
   "nbconvert_exporter": "python",
   "pygments_lexer": "ipython3",
   "version": "3.8.10"
  },
  "orig_nbformat": 4
 },
 "nbformat": 4,
 "nbformat_minor": 2
}
