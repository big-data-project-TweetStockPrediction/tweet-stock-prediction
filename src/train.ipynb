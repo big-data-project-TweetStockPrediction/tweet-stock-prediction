{
 "cells": [
  {
   "cell_type": "code",
   "execution_count": 11,
   "metadata": {},
   "outputs": [
    {
     "data": {
      "text/html": [
       "<style>.container { width:95% !important; } </style>"
      ],
      "text/plain": [
       "<IPython.core.display.HTML object>"
      ]
     },
     "metadata": {},
     "output_type": "display_data"
    },
    {
     "name": "stdout",
     "output_type": "stream",
     "text": [
      "The autoreload extension is already loaded. To reload it, use:\n",
      "  %reload_ext autoreload\n"
     ]
    }
   ],
   "source": [
    "from IPython.core.display import HTML\n",
    "display(HTML('<style>.container { width:95% !important; } </style>'))\n",
    "\n",
    "%load_ext autoreload\n",
    "%autoreload 2"
   ]
  },
  {
   "cell_type": "code",
   "execution_count": 12,
   "metadata": {},
   "outputs": [],
   "source": [
    "import numpy as np\n",
    "import matplotlib.pyplot as plt\n",
    "import seaborn as sns\n",
    "\n",
    "sns.set()"
   ]
  },
  {
   "cell_type": "code",
   "execution_count": 13,
   "metadata": {},
   "outputs": [],
   "source": [
    "from bandit_learn import *"
   ]
  },
  {
   "cell_type": "code",
   "execution_count": 14,
   "metadata": {},
   "outputs": [],
   "source": [
    "n_sim = 1\n",
    "noise_std = 0.1\n",
    "n_arms=10\n",
    "n_features=10\n",
    "confidence_scaling_factor = noise_std\n",
    "\n",
    "SEED = 42\n",
    "np.random.seed(SEED)"
   ]
  },
  {
   "cell_type": "code",
   "execution_count": 15,
   "metadata": {},
   "outputs": [
    {
     "name": "stdout",
     "output_type": "stream",
     "text": [
      "220915\n"
     ]
    }
   ],
   "source": [
    "fl = FeatureLoader(\n",
    "    datasetDir=\"../data/TSLA_2020_2022/processed_data/\",\n",
    "    featuresDir=\"../data/TSLA_2020_2022/features/\",\n",
    "    n_arms=10,\n",
    "    n_features=10,\n",
    ")\n",
    "fl.loadFeatures()\n",
    "print(fl.T)\n",
    "T = fl.T"
   ]
  },
  {
   "cell_type": "code",
   "execution_count": 16,
   "metadata": {},
   "outputs": [],
   "source": [
    "stockLoader = StockLoader(\"TSLA\")"
   ]
  },
  {
   "cell_type": "code",
   "execution_count": 17,
   "metadata": {},
   "outputs": [
    {
     "data": {
      "text/plain": [
       "Index(['Unnamed: 0', 'date', 'features', 'inference', 'confidence'], dtype='object')"
      ]
     },
     "execution_count": 17,
     "metadata": {},
     "output_type": "execute_result"
    }
   ],
   "source": [
    "fl.features_df.columns"
   ]
  },
  {
   "cell_type": "code",
   "execution_count": 18,
   "metadata": {},
   "outputs": [],
   "source": [
    "b = ContextualBandit(\n",
    "    T=fl.T, n_arms=fl.n_arms, n_features=fl.n_features, feature_loader=fl, stock_loader=stockLoader, seed=SEED\n",
    ")"
   ]
  },
  {
   "cell_type": "code",
   "execution_count": 19,
   "metadata": {},
   "outputs": [
    {
     "name": "stderr",
     "output_type": "stream",
     "text": [
      "  1%|          | 1800/220915 [6:16:22<829:40:04, 13.63s/it, total regret=17.7, % optimal arm=9.88%] "
     ]
    }
   ],
   "source": [
    "regrets = np.empty((1, T))\n",
    "\n",
    "model = LinUCB(\n",
    "    b,\n",
    "    reg_factor=1.0,\n",
    "    delta=0.1,\n",
    "    confidence_scaling_factor=confidence_scaling_factor,\n",
    ")\n",
    "model.run()\n",
    "regrets = np.cumsum(model.regrets)"
   ]
  },
  {
   "cell_type": "code",
   "execution_count": null,
   "metadata": {},
   "outputs": [],
   "source": [
    "fig, ax = plt.subplots(figsize=(11, 4), nrows=1, ncols=1)\n",
    "\n",
    "t = np.arange(T)\n",
    "\n",
    "mean_regrets = np.mean(regrets, axis=0)\n",
    "std_regrets = np.std(regrets, axis=0) / np.sqrt(regrets.shape[0])\n",
    "ax.plot(mean_regrets)\n",
    "ax.fill_between(t, mean_regrets - 2*std_regrets, mean_regrets + 2*std_regrets, alpha=0.15)\n",
    "ax.set_title('Cumulative regret')\n",
    "\n",
    "plt.tight_layout()\n",
    "plt.show()\n",
    "\n",
    "fig.savefig('figures/linucb_linear.pdf')"
   ]
  }
 ],
 "metadata": {
  "interpreter": {
   "hash": "5d7b3c5d55179cd19bcfe9ec0c739fe8c0616f500894f008c019174854c35a41"
  },
  "kernelspec": {
   "display_name": "Python 3.8.10 ('venv': venv)",
   "language": "python",
   "name": "python3"
  },
  "language_info": {
   "codemirror_mode": {
    "name": "ipython",
    "version": 3
   },
   "file_extension": ".py",
   "mimetype": "text/x-python",
   "name": "python",
   "nbconvert_exporter": "python",
   "pygments_lexer": "ipython3",
   "version": "3.8.10"
  },
  "orig_nbformat": 4
 },
 "nbformat": 4,
 "nbformat_minor": 2
}
