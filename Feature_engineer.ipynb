{
 "cells": [
  {
   "cell_type": "code",
   "execution_count": 181,
   "metadata": {},
   "outputs": [],
   "source": [
    "import pandas as pd\n",
    "import dask.dataframe as dd\n",
    "import json\n",
    "import re\n",
    "import numpy as np"
   ]
  },
  {
   "cell_type": "code",
   "execution_count": 182,
   "metadata": {},
   "outputs": [
    {
     "data": {
      "text/plain": [
       "'[[-0.09616660106336444 -0.1312780345741137 -0.03355583488812036\\n  -0.17013592425237037 -0.4804322624287979 -0.3626722446528914\\n  -0.6784775217645621 -0.039478893969622515 -0.03777629695791152\\n  0.4573223570190641]\\n [10.398620611963786 9.154198538491375 -0.07457118011429675\\n  0.5965288127590641 -0.6764925639982782 -0.05592429014938174\\n  1.0272537733193632 -0.039478893969622515 -0.03777629695791152\\n  0.0121317157712304]\\n [-0.09616660106336444 -0.12400752719028164 0.009872177704301691\\n  -0.1516906490330972 0.38223306447691524 -0.21919516640717396\\n  0.0038149962690080027 -0.015719675058837312 -0.03777629695791152\\n  0.41139514731369164]\\n [-0.09616660106336444 0.00694150140423166 1.0280178062599743\\n  0.4556673031616809 3.0617238525931456 1.078808299842274\\n  -0.6784775217645621 -0.039478893969622515 -0.03777629695791152\\n  0.5658578856152512]\\n [-0.09616660106336444 -0.02677447789222021 -0.15418920320040386\\n  0.013261285207784372 -0.807199431711265 0.25602372993357125\\n  -0.337331262747777 -0.039478893969622515 -0.03777629695791152\\n  0.7549826689774695]\\n [-0.09616660106336444 0.3023957465186369 0.3862482868386261\\n  1.2193658314815699 1.3102518252391218 4.96359277578838\\n  1.7095462913529333 -0.015719675058837312 -0.03777629695791152\\n  0.6154679376083187]\\n [-0.09616660106336444 -0.13063886908982075 -0.031143167521874692\\n  -0.16678223784886617 0.8397071014723693 -0.3397472243564205\\n  -0.337331262747777 -0.039478893969622515 -0.03777629695791152\\n  0.37045060658578866]\\n [-0.09616660106336444 -0.1284017898947955 -0.026317832789383353\\n  -0.15121632286845815 0.1077486422796429 -0.29188425515208144\\n  0.0038149962690080027 -0.039478893969622515 -0.03777629695791152\\n  0.5535095320623915]\\n [-0.09616660106336444 -0.1293605381212349 0.6106263518994733\\n  -0.16419682621907308 3.1009359129070417 -0.21628760285737766\\n  -0.6784775217645621 -0.039478893969622515 -0.03777629695791152\\n  0.7638648180242633]\\n [-0.09616660106336444 -0.13183730437287 -0.21933122208903694\\n  -0.17354973650773023 -0.5196443227426939 -0.36904651858898324\\n  -0.6784775217645621 -0.039478893969622515 -0.03777629695791152\\n  0.772313691507799]]'"
      ]
     },
     "execution_count": 182,
     "metadata": {},
     "output_type": "execute_result"
    }
   ],
   "source": [
    "df = pd.read_csv(\"./data/TSLA_2020_2022/features/TSLA_2020_2022_003.csv\")\n",
    "df[\"features\"][0]\n"
   ]
  },
  {
   "cell_type": "code",
   "execution_count": 183,
   "metadata": {},
   "outputs": [],
   "source": [
    "def float_converter(x): return np.array(\n",
    "    x.translate({ord(c): None for c in \"[]\"})\n",
    "    .replace(\"\\n\", \"\")\n",
    "    .replace(\"  \", \" \")\n",
    "     .split(\" \"),\n",
    "    dtype=float\n",
    ").reshape(10, -1)\n",
    "\n",
    "\n",
    "def str_converter(x): return np.array(\n",
    "    x.translate({ord(c): None for c in \"'[]\"})\n",
    "    .replace(\"\\n\", \"\")\n",
    "    .replace(\"  \", \" \")\n",
    "     .split(\" \"))\n"
   ]
  },
  {
   "cell_type": "code",
   "execution_count": 184,
   "metadata": {},
   "outputs": [],
   "source": [
    "features_df = dd.read_csv(\n",
    "    \"./data/TSLA_2020_2022/features/\" + \"*.csv\",\n",
    "    converters={\n",
    "        \"features\": float_converter,\n",
    "        \"inference\": str_converter,\n",
    "        \"confidence\": float_converter,\n",
    "    }\n",
    ")"
   ]
  },
  {
   "cell_type": "code",
   "execution_count": 185,
   "metadata": {},
   "outputs": [
    {
     "name": "stdout",
     "output_type": "stream",
     "text": [
      "[########################################] | 100% Completed | 14.9s\n"
     ]
    }
   ],
   "source": [
    "from dask.diagnostics import ProgressBar\n",
    "with ProgressBar():\n",
    "    df = features_df.compute()"
   ]
  },
  {
   "cell_type": "code",
   "execution_count": 186,
   "metadata": {},
   "outputs": [],
   "source": [
    "df = df.explode(column=['features', 'inference', 'confidence'])\n",
    "df['confidence'] = df['confidence'].apply(lambda x: x[0])\n",
    "df['inference'] = df['inference'].apply(lambda x: 1 if x == 'LABEL_1' else -1)\n"
   ]
  },
  {
   "cell_type": "code",
   "execution_count": 187,
   "metadata": {},
   "outputs": [
    {
     "data": {
      "text/html": [
       "<div>\n",
       "<style scoped>\n",
       "    .dataframe tbody tr th:only-of-type {\n",
       "        vertical-align: middle;\n",
       "    }\n",
       "\n",
       "    .dataframe tbody tr th {\n",
       "        vertical-align: top;\n",
       "    }\n",
       "\n",
       "    .dataframe thead th {\n",
       "        text-align: right;\n",
       "    }\n",
       "</style>\n",
       "<table border=\"1\" class=\"dataframe\">\n",
       "  <thead>\n",
       "    <tr style=\"text-align: right;\">\n",
       "      <th></th>\n",
       "      <th>Unnamed: 0</th>\n",
       "      <th>date</th>\n",
       "      <th>features</th>\n",
       "      <th>inference</th>\n",
       "      <th>confidence</th>\n",
       "    </tr>\n",
       "  </thead>\n",
       "  <tbody>\n",
       "    <tr>\n",
       "      <th>0</th>\n",
       "      <td>0</td>\n",
       "      <td>2019-12-24</td>\n",
       "      <td>[-0.09616660106336444, -0.1308785561464306, -0...</td>\n",
       "      <td>1</td>\n",
       "      <td>0.938756</td>\n",
       "    </tr>\n",
       "    <tr>\n",
       "      <th>0</th>\n",
       "      <td>0</td>\n",
       "      <td>2019-12-24</td>\n",
       "      <td>[-0.09616660106336444, -0.13167751300179675, -...</td>\n",
       "      <td>-1</td>\n",
       "      <td>0.547780</td>\n",
       "    </tr>\n",
       "    <tr>\n",
       "      <th>0</th>\n",
       "      <td>0</td>\n",
       "      <td>2019-12-24</td>\n",
       "      <td>[-0.09616660106336444, -0.12656418912745335, -...</td>\n",
       "      <td>1</td>\n",
       "      <td>0.940841</td>\n",
       "    </tr>\n",
       "    <tr>\n",
       "      <th>0</th>\n",
       "      <td>0</td>\n",
       "      <td>2019-12-24</td>\n",
       "      <td>[-0.09616660106336444, -0.12968012086338138, -...</td>\n",
       "      <td>1</td>\n",
       "      <td>0.937459</td>\n",
       "    </tr>\n",
       "    <tr>\n",
       "      <th>0</th>\n",
       "      <td>0</td>\n",
       "      <td>2019-12-24</td>\n",
       "      <td>[-0.09616660106336444, -0.11865451625932838, -...</td>\n",
       "      <td>-1</td>\n",
       "      <td>0.995169</td>\n",
       "    </tr>\n",
       "  </tbody>\n",
       "</table>\n",
       "</div>"
      ],
      "text/plain": [
       "  Unnamed: 0        date                                           features  \\\n",
       "0          0  2019-12-24  [-0.09616660106336444, -0.1308785561464306, -0...   \n",
       "0          0  2019-12-24  [-0.09616660106336444, -0.13167751300179675, -...   \n",
       "0          0  2019-12-24  [-0.09616660106336444, -0.12656418912745335, -...   \n",
       "0          0  2019-12-24  [-0.09616660106336444, -0.12968012086338138, -...   \n",
       "0          0  2019-12-24  [-0.09616660106336444, -0.11865451625932838, -...   \n",
       "\n",
       "   inference  confidence  \n",
       "0          1    0.938756  \n",
       "0         -1    0.547780  \n",
       "0          1    0.940841  \n",
       "0          1    0.937459  \n",
       "0         -1    0.995169  "
      ]
     },
     "execution_count": 187,
     "metadata": {},
     "output_type": "execute_result"
    }
   ],
   "source": [
    "df.head()"
   ]
  },
  {
   "cell_type": "code",
   "execution_count": 188,
   "metadata": {},
   "outputs": [
    {
     "data": {
      "text/plain": [
       "0     2019-12-24\n",
       "0     2019-12-24\n",
       "0     2019-12-24\n",
       "0     2019-12-24\n",
       "0     2019-12-24\n",
       "         ...    \n",
       "13    2022-03-01\n",
       "13    2022-03-01\n",
       "13    2022-03-01\n",
       "13    2022-03-01\n",
       "13    2022-03-01\n",
       "Name: date, Length: 2209150, dtype: object"
      ]
     },
     "execution_count": 188,
     "metadata": {},
     "output_type": "execute_result"
    }
   ],
   "source": [
    "df['date']"
   ]
  },
  {
   "cell_type": "code",
   "execution_count": 189,
   "metadata": {},
   "outputs": [
    {
     "data": {
      "text/plain": [
       " 1    1433980\n",
       "-1     775170\n",
       "Name: inference, dtype: int64"
      ]
     },
     "execution_count": 189,
     "metadata": {},
     "output_type": "execute_result"
    }
   ],
   "source": [
    "df.inference.value_counts()"
   ]
  },
  {
   "cell_type": "code",
   "execution_count": 190,
   "metadata": {},
   "outputs": [],
   "source": [
    "stock_df = pd.read_csv('./data/TSLA_2020_2022/stock_data/TSLA_2019-08-21_2022-05-12_2.csv')\n",
    "stock_df.rename(columns={'Unnamed: 0': 'date'}, inplace=True)"
   ]
  },
  {
   "cell_type": "code",
   "execution_count": 191,
   "metadata": {},
   "outputs": [
    {
     "data": {
      "text/html": [
       "<div>\n",
       "<style scoped>\n",
       "    .dataframe tbody tr th:only-of-type {\n",
       "        vertical-align: middle;\n",
       "    }\n",
       "\n",
       "    .dataframe tbody tr th {\n",
       "        vertical-align: top;\n",
       "    }\n",
       "\n",
       "    .dataframe thead th {\n",
       "        text-align: right;\n",
       "    }\n",
       "</style>\n",
       "<table border=\"1\" class=\"dataframe\">\n",
       "  <thead>\n",
       "    <tr style=\"text-align: right;\">\n",
       "      <th></th>\n",
       "      <th>tslaopen</th>\n",
       "      <th>tslahigh</th>\n",
       "      <th>tslalow</th>\n",
       "      <th>tslaclose</th>\n",
       "      <th>close_rate</th>\n",
       "    </tr>\n",
       "    <tr>\n",
       "      <th>date</th>\n",
       "      <th></th>\n",
       "      <th></th>\n",
       "      <th></th>\n",
       "      <th></th>\n",
       "      <th></th>\n",
       "    </tr>\n",
       "  </thead>\n",
       "  <tbody>\n",
       "    <tr>\n",
       "      <th>2019-08-21</th>\n",
       "      <td>44.402000</td>\n",
       "      <td>44.644001</td>\n",
       "      <td>43.520000</td>\n",
       "      <td>44.166000</td>\n",
       "      <td>-0.042703</td>\n",
       "    </tr>\n",
       "    <tr>\n",
       "      <th>2019-08-22</th>\n",
       "      <td>44.560001</td>\n",
       "      <td>45.080002</td>\n",
       "      <td>43.644001</td>\n",
       "      <td>44.430000</td>\n",
       "      <td>-0.032185</td>\n",
       "    </tr>\n",
       "    <tr>\n",
       "      <th>2019-08-23</th>\n",
       "      <td>43.993999</td>\n",
       "      <td>44.234001</td>\n",
       "      <td>42.200001</td>\n",
       "      <td>42.279999</td>\n",
       "      <td>0.012677</td>\n",
       "    </tr>\n",
       "    <tr>\n",
       "      <th>2019-08-24</th>\n",
       "      <td>43.993999</td>\n",
       "      <td>44.234001</td>\n",
       "      <td>42.200001</td>\n",
       "      <td>42.279999</td>\n",
       "      <td>0.012677</td>\n",
       "    </tr>\n",
       "    <tr>\n",
       "      <th>2019-08-25</th>\n",
       "      <td>43.993999</td>\n",
       "      <td>44.234001</td>\n",
       "      <td>42.200001</td>\n",
       "      <td>42.279999</td>\n",
       "      <td>0.012677</td>\n",
       "    </tr>\n",
       "  </tbody>\n",
       "</table>\n",
       "</div>"
      ],
      "text/plain": [
       "             tslaopen   tslahigh    tslalow  tslaclose  close_rate\n",
       "date                                                              \n",
       "2019-08-21  44.402000  44.644001  43.520000  44.166000   -0.042703\n",
       "2019-08-22  44.560001  45.080002  43.644001  44.430000   -0.032185\n",
       "2019-08-23  43.993999  44.234001  42.200001  42.279999    0.012677\n",
       "2019-08-24  43.993999  44.234001  42.200001  42.279999    0.012677\n",
       "2019-08-25  43.993999  44.234001  42.200001  42.279999    0.012677"
      ]
     },
     "execution_count": 191,
     "metadata": {},
     "output_type": "execute_result"
    }
   ],
   "source": [
    "stock_df.set_index('date', inplace=True)\n",
    "stock_df.head()"
   ]
  },
  {
   "cell_type": "code",
   "execution_count": 192,
   "metadata": {},
   "outputs": [
    {
     "data": {
      "text/html": [
       "<div>\n",
       "<style scoped>\n",
       "    .dataframe tbody tr th:only-of-type {\n",
       "        vertical-align: middle;\n",
       "    }\n",
       "\n",
       "    .dataframe tbody tr th {\n",
       "        vertical-align: top;\n",
       "    }\n",
       "\n",
       "    .dataframe thead th {\n",
       "        text-align: right;\n",
       "    }\n",
       "</style>\n",
       "<table border=\"1\" class=\"dataframe\">\n",
       "  <thead>\n",
       "    <tr style=\"text-align: right;\">\n",
       "      <th></th>\n",
       "      <th>Unnamed: 0</th>\n",
       "      <th>date</th>\n",
       "      <th>features</th>\n",
       "      <th>inference</th>\n",
       "      <th>confidence</th>\n",
       "    </tr>\n",
       "  </thead>\n",
       "  <tbody>\n",
       "    <tr>\n",
       "      <th>0</th>\n",
       "      <td>0</td>\n",
       "      <td>2019-12-24</td>\n",
       "      <td>[-0.09616660106336444, -0.1308785561464306, -0...</td>\n",
       "      <td>1</td>\n",
       "      <td>0.938756</td>\n",
       "    </tr>\n",
       "    <tr>\n",
       "      <th>0</th>\n",
       "      <td>0</td>\n",
       "      <td>2019-12-24</td>\n",
       "      <td>[-0.09616660106336444, -0.13167751300179675, -...</td>\n",
       "      <td>-1</td>\n",
       "      <td>0.547780</td>\n",
       "    </tr>\n",
       "    <tr>\n",
       "      <th>0</th>\n",
       "      <td>0</td>\n",
       "      <td>2019-12-24</td>\n",
       "      <td>[-0.09616660106336444, -0.12656418912745335, -...</td>\n",
       "      <td>1</td>\n",
       "      <td>0.940841</td>\n",
       "    </tr>\n",
       "    <tr>\n",
       "      <th>0</th>\n",
       "      <td>0</td>\n",
       "      <td>2019-12-24</td>\n",
       "      <td>[-0.09616660106336444, -0.12968012086338138, -...</td>\n",
       "      <td>1</td>\n",
       "      <td>0.937459</td>\n",
       "    </tr>\n",
       "    <tr>\n",
       "      <th>0</th>\n",
       "      <td>0</td>\n",
       "      <td>2019-12-24</td>\n",
       "      <td>[-0.09616660106336444, -0.11865451625932838, -...</td>\n",
       "      <td>-1</td>\n",
       "      <td>0.995169</td>\n",
       "    </tr>\n",
       "    <tr>\n",
       "      <th>...</th>\n",
       "      <td>...</td>\n",
       "      <td>...</td>\n",
       "      <td>...</td>\n",
       "      <td>...</td>\n",
       "      <td>...</td>\n",
       "    </tr>\n",
       "    <tr>\n",
       "      <th>13</th>\n",
       "      <td>13</td>\n",
       "      <td>2022-03-01</td>\n",
       "      <td>[-0.09616660106336444, -0.13047907771874753, -...</td>\n",
       "      <td>1</td>\n",
       "      <td>0.990381</td>\n",
       "    </tr>\n",
       "    <tr>\n",
       "      <th>13</th>\n",
       "      <td>13</td>\n",
       "      <td>2022-03-01</td>\n",
       "      <td>[-0.09616660106336444, -0.12752293735389275, -...</td>\n",
       "      <td>1</td>\n",
       "      <td>0.998607</td>\n",
       "    </tr>\n",
       "    <tr>\n",
       "      <th>13</th>\n",
       "      <td>13</td>\n",
       "      <td>2022-03-01</td>\n",
       "      <td>[-0.09616660106336444, -0.12968012086338138, -...</td>\n",
       "      <td>-1</td>\n",
       "      <td>0.991657</td>\n",
       "    </tr>\n",
       "    <tr>\n",
       "      <th>13</th>\n",
       "      <td>13</td>\n",
       "      <td>2022-03-01</td>\n",
       "      <td>[-0.09616660106336444, -0.12904095537908844, -...</td>\n",
       "      <td>1</td>\n",
       "      <td>0.961570</td>\n",
       "    </tr>\n",
       "    <tr>\n",
       "      <th>13</th>\n",
       "      <td>13</td>\n",
       "      <td>2022-03-01</td>\n",
       "      <td>[-0.09616660106336444, -0.12560544090101397, 0...</td>\n",
       "      <td>-1</td>\n",
       "      <td>0.990270</td>\n",
       "    </tr>\n",
       "  </tbody>\n",
       "</table>\n",
       "<p>2209150 rows × 5 columns</p>\n",
       "</div>"
      ],
      "text/plain": [
       "   Unnamed: 0        date                                           features  \\\n",
       "0           0  2019-12-24  [-0.09616660106336444, -0.1308785561464306, -0...   \n",
       "0           0  2019-12-24  [-0.09616660106336444, -0.13167751300179675, -...   \n",
       "0           0  2019-12-24  [-0.09616660106336444, -0.12656418912745335, -...   \n",
       "0           0  2019-12-24  [-0.09616660106336444, -0.12968012086338138, -...   \n",
       "0           0  2019-12-24  [-0.09616660106336444, -0.11865451625932838, -...   \n",
       "..        ...         ...                                                ...   \n",
       "13         13  2022-03-01  [-0.09616660106336444, -0.13047907771874753, -...   \n",
       "13         13  2022-03-01  [-0.09616660106336444, -0.12752293735389275, -...   \n",
       "13         13  2022-03-01  [-0.09616660106336444, -0.12968012086338138, -...   \n",
       "13         13  2022-03-01  [-0.09616660106336444, -0.12904095537908844, -...   \n",
       "13         13  2022-03-01  [-0.09616660106336444, -0.12560544090101397, 0...   \n",
       "\n",
       "    inference  confidence  \n",
       "0           1    0.938756  \n",
       "0          -1    0.547780  \n",
       "0           1    0.940841  \n",
       "0           1    0.937459  \n",
       "0          -1    0.995169  \n",
       "..        ...         ...  \n",
       "13          1    0.990381  \n",
       "13          1    0.998607  \n",
       "13         -1    0.991657  \n",
       "13          1    0.961570  \n",
       "13         -1    0.990270  \n",
       "\n",
       "[2209150 rows x 5 columns]"
      ]
     },
     "execution_count": 192,
     "metadata": {},
     "output_type": "execute_result"
    }
   ],
   "source": [
    "df"
   ]
  },
  {
   "cell_type": "code",
   "execution_count": 193,
   "metadata": {},
   "outputs": [
    {
     "data": {
      "text/html": [
       "<div>\n",
       "<style scoped>\n",
       "    .dataframe tbody tr th:only-of-type {\n",
       "        vertical-align: middle;\n",
       "    }\n",
       "\n",
       "    .dataframe tbody tr th {\n",
       "        vertical-align: top;\n",
       "    }\n",
       "\n",
       "    .dataframe thead th {\n",
       "        text-align: right;\n",
       "    }\n",
       "</style>\n",
       "<table border=\"1\" class=\"dataframe\">\n",
       "  <thead>\n",
       "    <tr style=\"text-align: right;\">\n",
       "      <th></th>\n",
       "      <th>tslaopen</th>\n",
       "      <th>tslahigh</th>\n",
       "      <th>tslalow</th>\n",
       "      <th>tslaclose</th>\n",
       "      <th>close_rate</th>\n",
       "    </tr>\n",
       "    <tr>\n",
       "      <th>date</th>\n",
       "      <th></th>\n",
       "      <th></th>\n",
       "      <th></th>\n",
       "      <th></th>\n",
       "      <th></th>\n",
       "    </tr>\n",
       "  </thead>\n",
       "  <tbody>\n",
       "    <tr>\n",
       "      <th>2019-08-21</th>\n",
       "      <td>44.402000</td>\n",
       "      <td>44.644001</td>\n",
       "      <td>43.520000</td>\n",
       "      <td>44.166000</td>\n",
       "      <td>-0.042703</td>\n",
       "    </tr>\n",
       "    <tr>\n",
       "      <th>2019-08-22</th>\n",
       "      <td>44.560001</td>\n",
       "      <td>45.080002</td>\n",
       "      <td>43.644001</td>\n",
       "      <td>44.430000</td>\n",
       "      <td>-0.032185</td>\n",
       "    </tr>\n",
       "    <tr>\n",
       "      <th>2019-08-23</th>\n",
       "      <td>43.993999</td>\n",
       "      <td>44.234001</td>\n",
       "      <td>42.200001</td>\n",
       "      <td>42.279999</td>\n",
       "      <td>0.012677</td>\n",
       "    </tr>\n",
       "    <tr>\n",
       "      <th>2019-08-24</th>\n",
       "      <td>43.993999</td>\n",
       "      <td>44.234001</td>\n",
       "      <td>42.200001</td>\n",
       "      <td>42.279999</td>\n",
       "      <td>0.012677</td>\n",
       "    </tr>\n",
       "    <tr>\n",
       "      <th>2019-08-25</th>\n",
       "      <td>43.993999</td>\n",
       "      <td>44.234001</td>\n",
       "      <td>42.200001</td>\n",
       "      <td>42.279999</td>\n",
       "      <td>0.012677</td>\n",
       "    </tr>\n",
       "  </tbody>\n",
       "</table>\n",
       "</div>"
      ],
      "text/plain": [
       "             tslaopen   tslahigh    tslalow  tslaclose  close_rate\n",
       "date                                                              \n",
       "2019-08-21  44.402000  44.644001  43.520000  44.166000   -0.042703\n",
       "2019-08-22  44.560001  45.080002  43.644001  44.430000   -0.032185\n",
       "2019-08-23  43.993999  44.234001  42.200001  42.279999    0.012677\n",
       "2019-08-24  43.993999  44.234001  42.200001  42.279999    0.012677\n",
       "2019-08-25  43.993999  44.234001  42.200001  42.279999    0.012677"
      ]
     },
     "execution_count": 193,
     "metadata": {},
     "output_type": "execute_result"
    }
   ],
   "source": [
    "stock_df.head()\n"
   ]
  },
  {
   "cell_type": "code",
   "execution_count": 194,
   "metadata": {},
   "outputs": [],
   "source": [
    "df['close_rate'] =  df.apply(lambda x: stock_df.loc[x['date'], 'close_rate'], axis=1)\n"
   ]
  },
  {
   "cell_type": "code",
   "execution_count": 195,
   "metadata": {},
   "outputs": [],
   "source": [
    "for i in range(10):\n",
    "    df[f'feature_{i}'] = df.apply(lambda x: x['features'][i], axis=1)\n"
   ]
  },
  {
   "cell_type": "code",
   "execution_count": 200,
   "metadata": {},
   "outputs": [],
   "source": [
    "nice_df = df.drop(columns=['features', 'Unnamed: 0'], axis=1)"
   ]
  },
  {
   "cell_type": "code",
   "execution_count": 204,
   "metadata": {},
   "outputs": [
    {
     "data": {
      "text/plain": [
       "0     0.938756\n",
       "0    -0.547780\n",
       "0     0.940841\n",
       "0     0.937459\n",
       "0    -0.995169\n",
       "        ...   \n",
       "13    0.990381\n",
       "13    0.998607\n",
       "13   -0.991657\n",
       "13    0.961570\n",
       "13   -0.990270\n",
       "Length: 2209150, dtype: float64"
      ]
     },
     "execution_count": 204,
     "metadata": {},
     "output_type": "execute_result"
    }
   ],
   "source": [
    "infer_price = nice_df['inference'] * nice_df['confidence']\n"
   ]
  },
  {
   "cell_type": "code",
   "execution_count": null,
   "metadata": {},
   "outputs": [],
   "source": [
    "# import matplotlib.pyplot as plt\n",
    "# import seaborn as sns\n",
    "\n",
    "# fig, axs = plt.subplots(1, 2, figsize=(20, 8))\n",
    "# sns.histplot(data=nice_df, x=\"close_rate\", ax=axs[0], kde=True)\n",
    "# sns.histplot(data=nice_df, y=\"close_rate\", ax=axs[1], bins=15)\n",
    "# axs[0].set_title('Histplot1')\n",
    "# axs[1].set_title('Histplot2')\n"
   ]
  },
  {
   "cell_type": "code",
   "execution_count": 209,
   "metadata": {},
   "outputs": [],
   "source": [
    "nice_df.to_csv('./data/TSLA_2020_2022/all_in_one/features_normalized.csv')"
   ]
  },
  {
   "cell_type": "code",
   "execution_count": null,
   "metadata": {},
   "outputs": [],
   "source": []
  }
 ],
 "metadata": {
  "interpreter": {
   "hash": "26de051ba29f2982a8de78e945f0abaf191376122a1563185a90213a26c5da77"
  },
  "kernelspec": {
   "display_name": "Python 3.10.4 64-bit",
   "language": "python",
   "name": "python3"
  },
  "language_info": {
   "codemirror_mode": {
    "name": "ipython",
    "version": 3
   },
   "file_extension": ".py",
   "mimetype": "text/x-python",
   "name": "python",
   "nbconvert_exporter": "python",
   "pygments_lexer": "ipython3",
   "version": "3.10.4"
  },
  "orig_nbformat": 4
 },
 "nbformat": 4,
 "nbformat_minor": 2
}
