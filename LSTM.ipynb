{
  "nbformat": 4,
  "nbformat_minor": 0,
  "metadata": {
    "colab": {
      "name": "LSTM.ipynb",
      "provenance": [],
      "collapsed_sections": []
    },
    "kernelspec": {
      "name": "python3",
      "display_name": "Python 3"
    },
    "language_info": {
      "name": "python"
    }
  },
  "cells": [
    {
      "cell_type": "code",
      "source": [
        "!pip install yfinance\n"
      ],
      "metadata": {
        "colab": {
          "base_uri": "https://localhost:8080/"
        },
        "id": "emxZxrpHdOOH",
        "outputId": "2040d6eb-3f90-4def-fb8e-13086c47baa8"
      },
      "execution_count": null,
      "outputs": [
        {
          "output_type": "stream",
          "name": "stdout",
          "text": [
            "Requirement already satisfied: yfinance in /usr/local/lib/python3.7/dist-packages (0.1.70)\n",
            "Requirement already satisfied: requests>=2.26 in /usr/local/lib/python3.7/dist-packages (from yfinance) (2.27.1)\n",
            "Requirement already satisfied: pandas>=0.24.0 in /usr/local/lib/python3.7/dist-packages (from yfinance) (1.3.5)\n",
            "Requirement already satisfied: lxml>=4.5.1 in /usr/local/lib/python3.7/dist-packages (from yfinance) (4.8.0)\n",
            "Requirement already satisfied: multitasking>=0.0.7 in /usr/local/lib/python3.7/dist-packages (from yfinance) (0.0.10)\n",
            "Requirement already satisfied: numpy>=1.15 in /usr/local/lib/python3.7/dist-packages (from yfinance) (1.21.6)\n",
            "Requirement already satisfied: pytz>=2017.3 in /usr/local/lib/python3.7/dist-packages (from pandas>=0.24.0->yfinance) (2022.1)\n",
            "Requirement already satisfied: python-dateutil>=2.7.3 in /usr/local/lib/python3.7/dist-packages (from pandas>=0.24.0->yfinance) (2.8.2)\n",
            "Requirement already satisfied: six>=1.5 in /usr/local/lib/python3.7/dist-packages (from python-dateutil>=2.7.3->pandas>=0.24.0->yfinance) (1.15.0)\n",
            "Requirement already satisfied: urllib3<1.27,>=1.21.1 in /usr/local/lib/python3.7/dist-packages (from requests>=2.26->yfinance) (1.24.3)\n",
            "Requirement already satisfied: certifi>=2017.4.17 in /usr/local/lib/python3.7/dist-packages (from requests>=2.26->yfinance) (2021.10.8)\n",
            "Requirement already satisfied: charset-normalizer~=2.0.0 in /usr/local/lib/python3.7/dist-packages (from requests>=2.26->yfinance) (2.0.12)\n",
            "Requirement already satisfied: idna<4,>=2.5 in /usr/local/lib/python3.7/dist-packages (from requests>=2.26->yfinance) (2.10)\n"
          ]
        }
      ]
    },
    {
      "cell_type": "code",
      "execution_count": null,
      "metadata": {
        "id": "A3GmB44_csJB"
      },
      "outputs": [],
      "source": [
        "import pandas as pd\n",
        "import numpy as np\n",
        "\n",
        "import matplotlib.pyplot as plt\n",
        "import seaborn as sns\n",
        "sns.set_style('whitegrid')\n",
        "plt.style.use(\"fivethirtyeight\")\n",
        "%matplotlib inline\n",
        "\n",
        "# For reading stock data from yahoo\n",
        "from pandas_datareader.data import DataReader\n",
        "import yfinance as yf\n",
        "\n",
        "# For time stamps\n",
        "from datetime import datetime"
      ]
    },
    {
      "cell_type": "code",
      "source": [
        "# The tech stocks we'll use for this analysis\n",
        "# tech_list = ['AAPL', 'GOOG', 'MSFT', 'AMZN']\n",
        "tech_list = ['TSLA']\n",
        "\n",
        "# end = datetime.now()\n",
        "end = datetime(2022, 1,31)\n",
        "start = datetime(end.year - 2, end.month, end.day)\n",
        "\n",
        "for stock in tech_list:\n",
        "    globals()[stock] = yf.download(stock, start, end)"
      ],
      "metadata": {
        "colab": {
          "base_uri": "https://localhost:8080/"
        },
        "id": "P0V5RUDadMEl",
        "outputId": "3f20d371-995d-4c8d-fe89-442feb8486f8"
      },
      "execution_count": null,
      "outputs": [
        {
          "output_type": "stream",
          "name": "stdout",
          "text": [
            "\r[*********************100%***********************]  1 of 1 completed\n"
          ]
        }
      ]
    },
    {
      "cell_type": "code",
      "source": [
        "# company_list = [AAPL, GOOG, MSFT, AMZN]\n",
        "# company_name = [\"APPLE\", \"GOOGLE\", \"MICROSOFT\", \"AMAZON\"]\n",
        "company_list = [TSLA]\n",
        "company_name = [\"TESLA\"]\n",
        "for company, com_name in zip(company_list, company_name):\n",
        "    company[\"company_name\"] = com_name\n",
        "    \n",
        "df = pd.concat(company_list, axis=0)\n",
        "df.tail(10)"
      ],
      "metadata": {
        "colab": {
          "base_uri": "https://localhost:8080/",
          "height": 394
        },
        "id": "siYuddUQ-AGI",
        "outputId": "4d70914f-669e-48f3-948c-2145d0ae8da3"
      },
      "execution_count": null,
      "outputs": [
        {
          "output_type": "execute_result",
          "data": {
            "text/plain": [
              "                   Open         High          Low        Close    Adj Close  \\\n",
              "Date                                                                          \n",
              "2022-01-14  1019.880005  1052.000000  1013.380005  1049.609985  1049.609985   \n",
              "2022-01-18  1026.609985  1070.790039  1016.059998  1030.510010  1030.510010   \n",
              "2022-01-19  1041.709961  1054.670044   995.000000   995.650024   995.650024   \n",
              "2022-01-20  1009.729980  1041.660034   994.000000   996.270020   996.270020   \n",
              "2022-01-21   996.340027  1004.549988   940.500000   943.900024   943.900024   \n",
              "2022-01-24   904.760010   933.510010   851.469971   930.000000   930.000000   \n",
              "2022-01-25   914.200012   951.260010   903.210022   918.400024   918.400024   \n",
              "2022-01-26   952.429993   987.690002   906.000000   937.409973   937.409973   \n",
              "2022-01-27   933.359985   935.390015   829.000000   829.099976   829.099976   \n",
              "2022-01-28   831.559998   857.500000   792.010010   846.349976   846.349976   \n",
              "\n",
              "              Volume company_name  \n",
              "Date                               \n",
              "2022-01-14  24308100        TESLA  \n",
              "2022-01-18  22247800        TESLA  \n",
              "2022-01-19  25147500        TESLA  \n",
              "2022-01-20  23496200        TESLA  \n",
              "2022-01-21  34472000        TESLA  \n",
              "2022-01-24  50521900        TESLA  \n",
              "2022-01-25  28865300        TESLA  \n",
              "2022-01-26  34955800        TESLA  \n",
              "2022-01-27  49036500        TESLA  \n",
              "2022-01-28  44929700        TESLA  "
            ],
            "text/html": [
              "\n",
              "  <div id=\"df-6cd454f1-f2dd-42ff-b09a-d4a0dee7385a\">\n",
              "    <div class=\"colab-df-container\">\n",
              "      <div>\n",
              "<style scoped>\n",
              "    .dataframe tbody tr th:only-of-type {\n",
              "        vertical-align: middle;\n",
              "    }\n",
              "\n",
              "    .dataframe tbody tr th {\n",
              "        vertical-align: top;\n",
              "    }\n",
              "\n",
              "    .dataframe thead th {\n",
              "        text-align: right;\n",
              "    }\n",
              "</style>\n",
              "<table border=\"1\" class=\"dataframe\">\n",
              "  <thead>\n",
              "    <tr style=\"text-align: right;\">\n",
              "      <th></th>\n",
              "      <th>Open</th>\n",
              "      <th>High</th>\n",
              "      <th>Low</th>\n",
              "      <th>Close</th>\n",
              "      <th>Adj Close</th>\n",
              "      <th>Volume</th>\n",
              "      <th>company_name</th>\n",
              "    </tr>\n",
              "    <tr>\n",
              "      <th>Date</th>\n",
              "      <th></th>\n",
              "      <th></th>\n",
              "      <th></th>\n",
              "      <th></th>\n",
              "      <th></th>\n",
              "      <th></th>\n",
              "      <th></th>\n",
              "    </tr>\n",
              "  </thead>\n",
              "  <tbody>\n",
              "    <tr>\n",
              "      <th>2022-01-14</th>\n",
              "      <td>1019.880005</td>\n",
              "      <td>1052.000000</td>\n",
              "      <td>1013.380005</td>\n",
              "      <td>1049.609985</td>\n",
              "      <td>1049.609985</td>\n",
              "      <td>24308100</td>\n",
              "      <td>TESLA</td>\n",
              "    </tr>\n",
              "    <tr>\n",
              "      <th>2022-01-18</th>\n",
              "      <td>1026.609985</td>\n",
              "      <td>1070.790039</td>\n",
              "      <td>1016.059998</td>\n",
              "      <td>1030.510010</td>\n",
              "      <td>1030.510010</td>\n",
              "      <td>22247800</td>\n",
              "      <td>TESLA</td>\n",
              "    </tr>\n",
              "    <tr>\n",
              "      <th>2022-01-19</th>\n",
              "      <td>1041.709961</td>\n",
              "      <td>1054.670044</td>\n",
              "      <td>995.000000</td>\n",
              "      <td>995.650024</td>\n",
              "      <td>995.650024</td>\n",
              "      <td>25147500</td>\n",
              "      <td>TESLA</td>\n",
              "    </tr>\n",
              "    <tr>\n",
              "      <th>2022-01-20</th>\n",
              "      <td>1009.729980</td>\n",
              "      <td>1041.660034</td>\n",
              "      <td>994.000000</td>\n",
              "      <td>996.270020</td>\n",
              "      <td>996.270020</td>\n",
              "      <td>23496200</td>\n",
              "      <td>TESLA</td>\n",
              "    </tr>\n",
              "    <tr>\n",
              "      <th>2022-01-21</th>\n",
              "      <td>996.340027</td>\n",
              "      <td>1004.549988</td>\n",
              "      <td>940.500000</td>\n",
              "      <td>943.900024</td>\n",
              "      <td>943.900024</td>\n",
              "      <td>34472000</td>\n",
              "      <td>TESLA</td>\n",
              "    </tr>\n",
              "    <tr>\n",
              "      <th>2022-01-24</th>\n",
              "      <td>904.760010</td>\n",
              "      <td>933.510010</td>\n",
              "      <td>851.469971</td>\n",
              "      <td>930.000000</td>\n",
              "      <td>930.000000</td>\n",
              "      <td>50521900</td>\n",
              "      <td>TESLA</td>\n",
              "    </tr>\n",
              "    <tr>\n",
              "      <th>2022-01-25</th>\n",
              "      <td>914.200012</td>\n",
              "      <td>951.260010</td>\n",
              "      <td>903.210022</td>\n",
              "      <td>918.400024</td>\n",
              "      <td>918.400024</td>\n",
              "      <td>28865300</td>\n",
              "      <td>TESLA</td>\n",
              "    </tr>\n",
              "    <tr>\n",
              "      <th>2022-01-26</th>\n",
              "      <td>952.429993</td>\n",
              "      <td>987.690002</td>\n",
              "      <td>906.000000</td>\n",
              "      <td>937.409973</td>\n",
              "      <td>937.409973</td>\n",
              "      <td>34955800</td>\n",
              "      <td>TESLA</td>\n",
              "    </tr>\n",
              "    <tr>\n",
              "      <th>2022-01-27</th>\n",
              "      <td>933.359985</td>\n",
              "      <td>935.390015</td>\n",
              "      <td>829.000000</td>\n",
              "      <td>829.099976</td>\n",
              "      <td>829.099976</td>\n",
              "      <td>49036500</td>\n",
              "      <td>TESLA</td>\n",
              "    </tr>\n",
              "    <tr>\n",
              "      <th>2022-01-28</th>\n",
              "      <td>831.559998</td>\n",
              "      <td>857.500000</td>\n",
              "      <td>792.010010</td>\n",
              "      <td>846.349976</td>\n",
              "      <td>846.349976</td>\n",
              "      <td>44929700</td>\n",
              "      <td>TESLA</td>\n",
              "    </tr>\n",
              "  </tbody>\n",
              "</table>\n",
              "</div>\n",
              "      <button class=\"colab-df-convert\" onclick=\"convertToInteractive('df-6cd454f1-f2dd-42ff-b09a-d4a0dee7385a')\"\n",
              "              title=\"Convert this dataframe to an interactive table.\"\n",
              "              style=\"display:none;\">\n",
              "        \n",
              "  <svg xmlns=\"http://www.w3.org/2000/svg\" height=\"24px\"viewBox=\"0 0 24 24\"\n",
              "       width=\"24px\">\n",
              "    <path d=\"M0 0h24v24H0V0z\" fill=\"none\"/>\n",
              "    <path d=\"M18.56 5.44l.94 2.06.94-2.06 2.06-.94-2.06-.94-.94-2.06-.94 2.06-2.06.94zm-11 1L8.5 8.5l.94-2.06 2.06-.94-2.06-.94L8.5 2.5l-.94 2.06-2.06.94zm10 10l.94 2.06.94-2.06 2.06-.94-2.06-.94-.94-2.06-.94 2.06-2.06.94z\"/><path d=\"M17.41 7.96l-1.37-1.37c-.4-.4-.92-.59-1.43-.59-.52 0-1.04.2-1.43.59L10.3 9.45l-7.72 7.72c-.78.78-.78 2.05 0 2.83L4 21.41c.39.39.9.59 1.41.59.51 0 1.02-.2 1.41-.59l7.78-7.78 2.81-2.81c.8-.78.8-2.07 0-2.86zM5.41 20L4 18.59l7.72-7.72 1.47 1.35L5.41 20z\"/>\n",
              "  </svg>\n",
              "      </button>\n",
              "      \n",
              "  <style>\n",
              "    .colab-df-container {\n",
              "      display:flex;\n",
              "      flex-wrap:wrap;\n",
              "      gap: 12px;\n",
              "    }\n",
              "\n",
              "    .colab-df-convert {\n",
              "      background-color: #E8F0FE;\n",
              "      border: none;\n",
              "      border-radius: 50%;\n",
              "      cursor: pointer;\n",
              "      display: none;\n",
              "      fill: #1967D2;\n",
              "      height: 32px;\n",
              "      padding: 0 0 0 0;\n",
              "      width: 32px;\n",
              "    }\n",
              "\n",
              "    .colab-df-convert:hover {\n",
              "      background-color: #E2EBFA;\n",
              "      box-shadow: 0px 1px 2px rgba(60, 64, 67, 0.3), 0px 1px 3px 1px rgba(60, 64, 67, 0.15);\n",
              "      fill: #174EA6;\n",
              "    }\n",
              "\n",
              "    [theme=dark] .colab-df-convert {\n",
              "      background-color: #3B4455;\n",
              "      fill: #D2E3FC;\n",
              "    }\n",
              "\n",
              "    [theme=dark] .colab-df-convert:hover {\n",
              "      background-color: #434B5C;\n",
              "      box-shadow: 0px 1px 3px 1px rgba(0, 0, 0, 0.15);\n",
              "      filter: drop-shadow(0px 1px 2px rgba(0, 0, 0, 0.3));\n",
              "      fill: #FFFFFF;\n",
              "    }\n",
              "  </style>\n",
              "\n",
              "      <script>\n",
              "        const buttonEl =\n",
              "          document.querySelector('#df-6cd454f1-f2dd-42ff-b09a-d4a0dee7385a button.colab-df-convert');\n",
              "        buttonEl.style.display =\n",
              "          google.colab.kernel.accessAllowed ? 'block' : 'none';\n",
              "\n",
              "        async function convertToInteractive(key) {\n",
              "          const element = document.querySelector('#df-6cd454f1-f2dd-42ff-b09a-d4a0dee7385a');\n",
              "          const dataTable =\n",
              "            await google.colab.kernel.invokeFunction('convertToInteractive',\n",
              "                                                     [key], {});\n",
              "          if (!dataTable) return;\n",
              "\n",
              "          const docLinkHtml = 'Like what you see? Visit the ' +\n",
              "            '<a target=\"_blank\" href=https://colab.research.google.com/notebooks/data_table.ipynb>data table notebook</a>'\n",
              "            + ' to learn more about interactive tables.';\n",
              "          element.innerHTML = '';\n",
              "          dataTable['output_type'] = 'display_data';\n",
              "          await google.colab.output.renderOutput(dataTable, element);\n",
              "          const docLink = document.createElement('div');\n",
              "          docLink.innerHTML = docLinkHtml;\n",
              "          element.appendChild(docLink);\n",
              "        }\n",
              "      </script>\n",
              "    </div>\n",
              "  </div>\n",
              "  "
            ]
          },
          "metadata": {},
          "execution_count": 204
        }
      ]
    },
    {
      "cell_type": "code",
      "source": [
        "# ma_day = [10, 20, 50] #stock price moving average peroid\n",
        "\n",
        "# for ma in ma_day:\n",
        "#     for company in company_list:\n",
        "#         column_name = f\"MA for {ma} days\"\n",
        "#         company[column_name] = company['Adj Close'].rolling(ma).mean()"
      ],
      "metadata": {
        "id": "ynnI8bijjawP"
      },
      "execution_count": null,
      "outputs": []
    },
    {
      "cell_type": "code",
      "source": [
        "# # We'll use pct_change to find the percent change for each day\n",
        "# for company in company_list:\n",
        "#     company['Daily Return'] = company['Adj Close'].pct_change()\n"
      ],
      "metadata": {
        "id": "2bd82sW2joeZ"
      },
      "execution_count": null,
      "outputs": []
    },
    {
      "cell_type": "code",
      "source": [
        "from pandas_datareader import data as pdr\n",
        "yf.pdr_override()\n",
        "#closing stock price\n",
        "closing_df = pdr.get_data_yahoo(tech_list, start=start,end=end)['Adj Close']\n",
        "\n",
        "\n",
        "# Make a new tech returns DataFrame\n",
        "tech_rets = closing_df.pct_change()\n",
        "rets = tech_rets.dropna()"
      ],
      "metadata": {
        "colab": {
          "base_uri": "https://localhost:8080/"
        },
        "id": "qCKLOuvfjs9v",
        "outputId": "b9044b2d-bbf1-4b9d-fbb4-13d6c83e2485"
      },
      "execution_count": null,
      "outputs": [
        {
          "output_type": "stream",
          "name": "stdout",
          "text": [
            "\r[*********************100%***********************]  1 of 1 completed\n"
          ]
        }
      ]
    },
    {
      "cell_type": "code",
      "source": [
        "# Get the stock quote\n",
        "closing_df = pdr.get_data_yahoo(tech_list, start=start,end=end)['Adj Close']\n"
      ],
      "metadata": {
        "colab": {
          "base_uri": "https://localhost:8080/"
        },
        "id": "ChNKOesds7tA",
        "outputId": "8eacd55a-3d46-4934-f594-fa7bbce019dc"
      },
      "execution_count": null,
      "outputs": [
        {
          "output_type": "stream",
          "name": "stdout",
          "text": [
            "\r[*********************100%***********************]  1 of 1 completed\n"
          ]
        }
      ]
    },
    {
      "cell_type": "code",
      "source": [
        "# Create a new dataframe with only the 'Close column \n",
        "#!!!!!\n",
        "data = df.filter([\"Open\",\t\"High\",\t\"Low\",\t\"Close\",\t\"Adj Close\",\t\"Volume\"])\n",
        "data_close=df.filter(['Close'])\n",
        "# Convert the dataframe to a numpy array\n",
        "dataset = data.values\n",
        "# Get the number of rows to train the model on\n",
        "training_data_len = int(np.ceil( len(dataset) * .95 )) #get 90% of the data to train\n",
        "training_data_len"
      ],
      "metadata": {
        "colab": {
          "base_uri": "https://localhost:8080/"
        },
        "id": "4M2QmdBqtTLY",
        "outputId": "9c12daed-013b-44ab-95a0-750fdca7bf15"
      },
      "execution_count": null,
      "outputs": [
        {
          "output_type": "execute_result",
          "data": {
            "text/plain": [
              "479"
            ]
          },
          "metadata": {},
          "execution_count": 209
        }
      ]
    },
    {
      "cell_type": "code",
      "source": [
        "# Scale the data\n",
        "from sklearn.preprocessing import MinMaxScaler\n",
        "\n",
        "scaler = MinMaxScaler(feature_range=(0,1)) #MinMaxScaler最小最大值標準化\n",
        "scaled_data = scaler.fit_transform(dataset)\n",
        "scaler_close = MinMaxScaler(feature_range=(0,1)) #MinMaxScaler最小最大值標準化\n",
        "scaled_data_close = scaler_close.fit_transform(data_close)\n"
      ],
      "metadata": {
        "id": "mmLtoyBOteJ1"
      },
      "execution_count": null,
      "outputs": []
    },
    {
      "cell_type": "code",
      "source": [
        "# Create the training data set \n",
        "# Create the scaled training data set\n",
        "train_data = scaled_data[0:int(training_data_len), :]\n",
        "# Split the data into x_train and y_train data sets\n",
        "x_train = []\n",
        "y_train = []\n",
        "#!!!!可以改window size\n",
        "#!!!!改成60*6\n",
        "for i in range(60, len(train_data)):\n",
        "    x_train.append(train_data[i-60:i, :])\n",
        "    y_train.append(train_data[i, 3])\n",
        "       \n",
        "# Convert the x_train and y_train to numpy arrays \n",
        "x_train, y_train = np.array(x_train), np.array(y_train)\n",
        "\n",
        "# Reshape the data\n",
        "x_train = np.reshape(x_train, (x_train.shape[0], x_train.shape[1], 6))\n"
      ],
      "metadata": {
        "id": "dTnEuCgmtjen"
      },
      "execution_count": null,
      "outputs": []
    },
    {
      "cell_type": "code",
      "source": [
        "from keras.models import Sequential\n",
        "from keras.layers import Dense, LSTM\n",
        "#!!!!改layer\n",
        "# Build the LSTM model\n",
        "model = Sequential()\n",
        "model.add(LSTM(128, return_sequences=True, input_shape= (x_train.shape[1], 6)))\n",
        "model.add(LSTM(64, return_sequences=False))\n",
        "model.add(Dense(25))\n",
        "model.add(Dense(1))\n",
        "\n",
        "# Compile the model\n",
        "model.compile(optimizer='adam', loss='mean_squared_error')\n",
        "\n",
        "# Train the model\n",
        "model.fit(x_train, y_train, batch_size=1, epochs=1)"
      ],
      "metadata": {
        "id": "PB7QELMDtnNz",
        "colab": {
          "base_uri": "https://localhost:8080/"
        },
        "outputId": "d10b0ceb-ac83-4b94-be25-facd0999dadc"
      },
      "execution_count": null,
      "outputs": [
        {
          "output_type": "stream",
          "name": "stdout",
          "text": [
            "419/419 [==============================] - 17s 34ms/step - loss: 0.0047\n"
          ]
        },
        {
          "output_type": "execute_result",
          "data": {
            "text/plain": [
              "<keras.callbacks.History at 0x7f18ede910d0>"
            ]
          },
          "metadata": {},
          "execution_count": 212
        }
      ]
    },
    {
      "cell_type": "code",
      "source": [
        "# Create the testing data set\n",
        "# Create a new array containing scaled values from index 1543 to 2002 \n",
        "test_data = scaled_data[training_data_len - 60: , :]\n",
        "# Create the data sets x_test and y_test\n",
        "x_test = []\n",
        "y_test = dataset[training_data_len:,3]\n",
        "for i in range(60, len(test_data)):\n",
        "    x_test.append(test_data[i-60:i, :])\n",
        "    \n",
        "# Convert the data to a numpy array\n",
        "x_test = np.array(x_test)\n",
        "\n",
        "# Reshape the data\n",
        "x_test = np.reshape(x_test, (x_test.shape[0], x_test.shape[1], 6 ))\n",
        "\n",
        "# Get the models predicted price values \n",
        "predictions = model.predict(x_test)\n",
        "predictions = scaler_close.inverse_transform(predictions)\n",
        "#改用MAPE看看\n",
        "# Get the root mean squared error (RMSE)\n",
        "rmse = np.sqrt(np.mean(((predictions - y_test) ** 2)))\n",
        "rmse"
      ],
      "metadata": {
        "id": "UaRqejBWtqms",
        "colab": {
          "base_uri": "https://localhost:8080/"
        },
        "outputId": "56d848cb-25c7-4254-d745-c57255ae54ee"
      },
      "execution_count": null,
      "outputs": [
        {
          "output_type": "execute_result",
          "data": {
            "text/plain": [
              "117.14409561740341"
            ]
          },
          "metadata": {},
          "execution_count": 213
        }
      ]
    },
    {
      "cell_type": "code",
      "source": [
        "# Plot the data\n",
        "data = df.filter(['Close'])\n",
        "train = data[:training_data_len]\n",
        "valid = data[training_data_len:]\n",
        "predictions\n",
        "valid['Predictions'] = predictions\n",
        "valid"
      ],
      "metadata": {
        "id": "6qN9OHV5uTui",
        "colab": {
          "base_uri": "https://localhost:8080/",
          "height": 992
        },
        "outputId": "b5b71a0d-9e90-4317-9b2b-6eed08f7eb14"
      },
      "execution_count": null,
      "outputs": [
        {
          "output_type": "stream",
          "name": "stderr",
          "text": [
            "/usr/local/lib/python3.7/dist-packages/ipykernel_launcher.py:6: SettingWithCopyWarning: \n",
            "A value is trying to be set on a copy of a slice from a DataFrame.\n",
            "Try using .loc[row_indexer,col_indexer] = value instead\n",
            "\n",
            "See the caveats in the documentation: https://pandas.pydata.org/pandas-docs/stable/user_guide/indexing.html#returning-a-view-versus-a-copy\n",
            "  \n"
          ]
        },
        {
          "output_type": "execute_result",
          "data": {
            "text/plain": [
              "                  Close  Predictions\n",
              "Date                                \n",
              "2021-12-23  1067.000000   878.943909\n",
              "2021-12-27  1093.939941   893.955078\n",
              "2021-12-28  1088.469971   918.425232\n",
              "2021-12-29  1086.189941   944.369507\n",
              "2021-12-30  1070.339966   966.386780\n",
              "2021-12-31  1056.780029   981.468994\n",
              "2022-01-03  1199.780029   990.496643\n",
              "2022-01-04  1149.589966  1012.021362\n",
              "2022-01-05  1088.119995  1032.092163\n",
              "2022-01-06  1064.699951  1041.783325\n",
              "2022-01-07  1026.959961  1038.652832\n",
              "2022-01-10  1058.119995  1027.747192\n",
              "2022-01-11  1064.400024  1013.331238\n",
              "2022-01-12  1106.219971  1002.493958\n",
              "2022-01-13  1031.560059   999.741638\n",
              "2022-01-14  1049.609985   995.850037\n",
              "2022-01-18  1030.510010   988.781921\n",
              "2022-01-19   995.650024   981.411316\n",
              "2022-01-20   996.270020   972.228333\n",
              "2022-01-21   943.900024   962.528198\n",
              "2022-01-24   930.000000   948.273071\n",
              "2022-01-25   918.400024   926.971436\n",
              "2022-01-26   937.409973   906.596863\n",
              "2022-01-27   829.099976   892.823486\n",
              "2022-01-28   846.349976   873.456299"
            ],
            "text/html": [
              "\n",
              "  <div id=\"df-0ef8b49a-6883-422a-b5a3-5b025e1060a0\">\n",
              "    <div class=\"colab-df-container\">\n",
              "      <div>\n",
              "<style scoped>\n",
              "    .dataframe tbody tr th:only-of-type {\n",
              "        vertical-align: middle;\n",
              "    }\n",
              "\n",
              "    .dataframe tbody tr th {\n",
              "        vertical-align: top;\n",
              "    }\n",
              "\n",
              "    .dataframe thead th {\n",
              "        text-align: right;\n",
              "    }\n",
              "</style>\n",
              "<table border=\"1\" class=\"dataframe\">\n",
              "  <thead>\n",
              "    <tr style=\"text-align: right;\">\n",
              "      <th></th>\n",
              "      <th>Close</th>\n",
              "      <th>Predictions</th>\n",
              "    </tr>\n",
              "    <tr>\n",
              "      <th>Date</th>\n",
              "      <th></th>\n",
              "      <th></th>\n",
              "    </tr>\n",
              "  </thead>\n",
              "  <tbody>\n",
              "    <tr>\n",
              "      <th>2021-12-23</th>\n",
              "      <td>1067.000000</td>\n",
              "      <td>878.943909</td>\n",
              "    </tr>\n",
              "    <tr>\n",
              "      <th>2021-12-27</th>\n",
              "      <td>1093.939941</td>\n",
              "      <td>893.955078</td>\n",
              "    </tr>\n",
              "    <tr>\n",
              "      <th>2021-12-28</th>\n",
              "      <td>1088.469971</td>\n",
              "      <td>918.425232</td>\n",
              "    </tr>\n",
              "    <tr>\n",
              "      <th>2021-12-29</th>\n",
              "      <td>1086.189941</td>\n",
              "      <td>944.369507</td>\n",
              "    </tr>\n",
              "    <tr>\n",
              "      <th>2021-12-30</th>\n",
              "      <td>1070.339966</td>\n",
              "      <td>966.386780</td>\n",
              "    </tr>\n",
              "    <tr>\n",
              "      <th>2021-12-31</th>\n",
              "      <td>1056.780029</td>\n",
              "      <td>981.468994</td>\n",
              "    </tr>\n",
              "    <tr>\n",
              "      <th>2022-01-03</th>\n",
              "      <td>1199.780029</td>\n",
              "      <td>990.496643</td>\n",
              "    </tr>\n",
              "    <tr>\n",
              "      <th>2022-01-04</th>\n",
              "      <td>1149.589966</td>\n",
              "      <td>1012.021362</td>\n",
              "    </tr>\n",
              "    <tr>\n",
              "      <th>2022-01-05</th>\n",
              "      <td>1088.119995</td>\n",
              "      <td>1032.092163</td>\n",
              "    </tr>\n",
              "    <tr>\n",
              "      <th>2022-01-06</th>\n",
              "      <td>1064.699951</td>\n",
              "      <td>1041.783325</td>\n",
              "    </tr>\n",
              "    <tr>\n",
              "      <th>2022-01-07</th>\n",
              "      <td>1026.959961</td>\n",
              "      <td>1038.652832</td>\n",
              "    </tr>\n",
              "    <tr>\n",
              "      <th>2022-01-10</th>\n",
              "      <td>1058.119995</td>\n",
              "      <td>1027.747192</td>\n",
              "    </tr>\n",
              "    <tr>\n",
              "      <th>2022-01-11</th>\n",
              "      <td>1064.400024</td>\n",
              "      <td>1013.331238</td>\n",
              "    </tr>\n",
              "    <tr>\n",
              "      <th>2022-01-12</th>\n",
              "      <td>1106.219971</td>\n",
              "      <td>1002.493958</td>\n",
              "    </tr>\n",
              "    <tr>\n",
              "      <th>2022-01-13</th>\n",
              "      <td>1031.560059</td>\n",
              "      <td>999.741638</td>\n",
              "    </tr>\n",
              "    <tr>\n",
              "      <th>2022-01-14</th>\n",
              "      <td>1049.609985</td>\n",
              "      <td>995.850037</td>\n",
              "    </tr>\n",
              "    <tr>\n",
              "      <th>2022-01-18</th>\n",
              "      <td>1030.510010</td>\n",
              "      <td>988.781921</td>\n",
              "    </tr>\n",
              "    <tr>\n",
              "      <th>2022-01-19</th>\n",
              "      <td>995.650024</td>\n",
              "      <td>981.411316</td>\n",
              "    </tr>\n",
              "    <tr>\n",
              "      <th>2022-01-20</th>\n",
              "      <td>996.270020</td>\n",
              "      <td>972.228333</td>\n",
              "    </tr>\n",
              "    <tr>\n",
              "      <th>2022-01-21</th>\n",
              "      <td>943.900024</td>\n",
              "      <td>962.528198</td>\n",
              "    </tr>\n",
              "    <tr>\n",
              "      <th>2022-01-24</th>\n",
              "      <td>930.000000</td>\n",
              "      <td>948.273071</td>\n",
              "    </tr>\n",
              "    <tr>\n",
              "      <th>2022-01-25</th>\n",
              "      <td>918.400024</td>\n",
              "      <td>926.971436</td>\n",
              "    </tr>\n",
              "    <tr>\n",
              "      <th>2022-01-26</th>\n",
              "      <td>937.409973</td>\n",
              "      <td>906.596863</td>\n",
              "    </tr>\n",
              "    <tr>\n",
              "      <th>2022-01-27</th>\n",
              "      <td>829.099976</td>\n",
              "      <td>892.823486</td>\n",
              "    </tr>\n",
              "    <tr>\n",
              "      <th>2022-01-28</th>\n",
              "      <td>846.349976</td>\n",
              "      <td>873.456299</td>\n",
              "    </tr>\n",
              "  </tbody>\n",
              "</table>\n",
              "</div>\n",
              "      <button class=\"colab-df-convert\" onclick=\"convertToInteractive('df-0ef8b49a-6883-422a-b5a3-5b025e1060a0')\"\n",
              "              title=\"Convert this dataframe to an interactive table.\"\n",
              "              style=\"display:none;\">\n",
              "        \n",
              "  <svg xmlns=\"http://www.w3.org/2000/svg\" height=\"24px\"viewBox=\"0 0 24 24\"\n",
              "       width=\"24px\">\n",
              "    <path d=\"M0 0h24v24H0V0z\" fill=\"none\"/>\n",
              "    <path d=\"M18.56 5.44l.94 2.06.94-2.06 2.06-.94-2.06-.94-.94-2.06-.94 2.06-2.06.94zm-11 1L8.5 8.5l.94-2.06 2.06-.94-2.06-.94L8.5 2.5l-.94 2.06-2.06.94zm10 10l.94 2.06.94-2.06 2.06-.94-2.06-.94-.94-2.06-.94 2.06-2.06.94z\"/><path d=\"M17.41 7.96l-1.37-1.37c-.4-.4-.92-.59-1.43-.59-.52 0-1.04.2-1.43.59L10.3 9.45l-7.72 7.72c-.78.78-.78 2.05 0 2.83L4 21.41c.39.39.9.59 1.41.59.51 0 1.02-.2 1.41-.59l7.78-7.78 2.81-2.81c.8-.78.8-2.07 0-2.86zM5.41 20L4 18.59l7.72-7.72 1.47 1.35L5.41 20z\"/>\n",
              "  </svg>\n",
              "      </button>\n",
              "      \n",
              "  <style>\n",
              "    .colab-df-container {\n",
              "      display:flex;\n",
              "      flex-wrap:wrap;\n",
              "      gap: 12px;\n",
              "    }\n",
              "\n",
              "    .colab-df-convert {\n",
              "      background-color: #E8F0FE;\n",
              "      border: none;\n",
              "      border-radius: 50%;\n",
              "      cursor: pointer;\n",
              "      display: none;\n",
              "      fill: #1967D2;\n",
              "      height: 32px;\n",
              "      padding: 0 0 0 0;\n",
              "      width: 32px;\n",
              "    }\n",
              "\n",
              "    .colab-df-convert:hover {\n",
              "      background-color: #E2EBFA;\n",
              "      box-shadow: 0px 1px 2px rgba(60, 64, 67, 0.3), 0px 1px 3px 1px rgba(60, 64, 67, 0.15);\n",
              "      fill: #174EA6;\n",
              "    }\n",
              "\n",
              "    [theme=dark] .colab-df-convert {\n",
              "      background-color: #3B4455;\n",
              "      fill: #D2E3FC;\n",
              "    }\n",
              "\n",
              "    [theme=dark] .colab-df-convert:hover {\n",
              "      background-color: #434B5C;\n",
              "      box-shadow: 0px 1px 3px 1px rgba(0, 0, 0, 0.15);\n",
              "      filter: drop-shadow(0px 1px 2px rgba(0, 0, 0, 0.3));\n",
              "      fill: #FFFFFF;\n",
              "    }\n",
              "  </style>\n",
              "\n",
              "      <script>\n",
              "        const buttonEl =\n",
              "          document.querySelector('#df-0ef8b49a-6883-422a-b5a3-5b025e1060a0 button.colab-df-convert');\n",
              "        buttonEl.style.display =\n",
              "          google.colab.kernel.accessAllowed ? 'block' : 'none';\n",
              "\n",
              "        async function convertToInteractive(key) {\n",
              "          const element = document.querySelector('#df-0ef8b49a-6883-422a-b5a3-5b025e1060a0');\n",
              "          const dataTable =\n",
              "            await google.colab.kernel.invokeFunction('convertToInteractive',\n",
              "                                                     [key], {});\n",
              "          if (!dataTable) return;\n",
              "\n",
              "          const docLinkHtml = 'Like what you see? Visit the ' +\n",
              "            '<a target=\"_blank\" href=https://colab.research.google.com/notebooks/data_table.ipynb>data table notebook</a>'\n",
              "            + ' to learn more about interactive tables.';\n",
              "          element.innerHTML = '';\n",
              "          dataTable['output_type'] = 'display_data';\n",
              "          await google.colab.output.renderOutput(dataTable, element);\n",
              "          const docLink = document.createElement('div');\n",
              "          docLink.innerHTML = docLinkHtml;\n",
              "          element.appendChild(docLink);\n",
              "        }\n",
              "      </script>\n",
              "    </div>\n",
              "  </div>\n",
              "  "
            ]
          },
          "metadata": {},
          "execution_count": 214
        }
      ]
    },
    {
      "cell_type": "code",
      "source": [
        "import random\n",
        "from sklearn import metrics\n",
        "print( valid['Close'][1])\n",
        "ud_valid=[]\n",
        "ud_Prediction=[]\n",
        "for i in range(1,len(valid)):\n",
        "  if valid['Close'][i]>valid['Close'][i-1]:\n",
        "    ud_valid.append(1)\n",
        "  elif valid['Close'][i]<valid['Close'][i-1]:\n",
        "    ud_valid.append(-1)\n",
        "  else:\n",
        "    ud_valid.append(0)\n",
        "for i in range(1,len(valid)):\n",
        "  if valid['Predictions'][i]>valid['Predictions'][i-1]:\n",
        "    ud_Prediction.append(1)\n",
        "  elif valid['Predictions'][i]<valid['Predictions'][i-1]:\n",
        "    ud_Prediction.append(-1)\n",
        "  else:\n",
        "    ud_Prediction.append(0)\n",
        "print(ud_Prediction)\n",
        "print(ud_valid)\n",
        "\n",
        "cf_matrix = metrics.confusion_matrix(ud_valid, ud_Prediction)\n",
        "print(cf_matrix)\n"
      ],
      "metadata": {
        "colab": {
          "base_uri": "https://localhost:8080/"
        },
        "id": "S9JJd9XSFD1M",
        "outputId": "c1455a79-92db-4569-8a59-be9a8586c1b8"
      },
      "execution_count": null,
      "outputs": [
        {
          "output_type": "stream",
          "name": "stdout",
          "text": [
            "1093.93994140625\n",
            "[1, 1, 1, 1, 1, 1, 1, 1, 1, -1, -1, -1, -1, -1, -1, -1, -1, -1, -1, -1, -1, -1, -1, -1]\n",
            "[1, -1, -1, -1, -1, 1, -1, -1, -1, -1, 1, 1, 1, -1, 1, -1, -1, 1, -1, -1, -1, 1, -1, 1]\n",
            "[[8 7]\n",
            " [7 2]]\n"
          ]
        }
      ]
    },
    {
      "cell_type": "code",
      "source": [
        "#predict today's stock price\n",
        "x_train=[]\n",
        "x_train.append(scaled_data[len(scaled_data)-60:len(scaled_data), :])\n",
        "x_train = np.array(x_train)\n",
        "x_train=np.reshape(x_train, (x_train.shape[0], x_train.shape[1], 6 ))\n",
        "\n",
        "predictions_t = model.predict(x_train)\n",
        "predictions_t = scaler_close.inverse_transform(predictions_t)\n",
        "print(predictions_t)"
      ],
      "metadata": {
        "id": "ZRm26yi9e-9o",
        "colab": {
          "base_uri": "https://localhost:8080/"
        },
        "outputId": "d707d6c2-fe5e-4df9-a764-d066f61fd8b8"
      },
      "execution_count": null,
      "outputs": [
        {
          "output_type": "stream",
          "name": "stdout",
          "text": [
            "[[849.84094]]\n"
          ]
        }
      ]
    },
    {
      "cell_type": "code",
      "source": [
        "!pip install optuna"
      ],
      "metadata": {
        "colab": {
          "base_uri": "https://localhost:8080/"
        },
        "id": "IUqtuMpsXq1f",
        "outputId": "84e99930-10b7-4149-d0cd-81774cc7f882"
      },
      "execution_count": null,
      "outputs": [
        {
          "output_type": "stream",
          "name": "stdout",
          "text": [
            "Collecting optuna\n",
            "  Downloading optuna-2.10.0-py3-none-any.whl (308 kB)\n",
            "\u001b[K     |████████████████████████████████| 308 kB 4.1 MB/s \n",
            "\u001b[?25hRequirement already satisfied: sqlalchemy>=1.1.0 in /usr/local/lib/python3.7/dist-packages (from optuna) (1.4.36)\n",
            "Requirement already satisfied: numpy in /usr/local/lib/python3.7/dist-packages (from optuna) (1.21.6)\n",
            "Requirement already satisfied: tqdm in /usr/local/lib/python3.7/dist-packages (from optuna) (4.64.0)\n",
            "Collecting cmaes>=0.8.2\n",
            "  Downloading cmaes-0.8.2-py3-none-any.whl (15 kB)\n",
            "Requirement already satisfied: scipy!=1.4.0 in /usr/local/lib/python3.7/dist-packages (from optuna) (1.4.1)\n",
            "Requirement already satisfied: PyYAML in /usr/local/lib/python3.7/dist-packages (from optuna) (3.13)\n",
            "Requirement already satisfied: packaging>=20.0 in /usr/local/lib/python3.7/dist-packages (from optuna) (21.3)\n",
            "Collecting alembic\n",
            "  Downloading alembic-1.7.7-py3-none-any.whl (210 kB)\n",
            "\u001b[K     |████████████████████████████████| 210 kB 56.5 MB/s \n",
            "\u001b[?25hCollecting cliff\n",
            "  Downloading cliff-3.10.1-py3-none-any.whl (81 kB)\n",
            "\u001b[K     |████████████████████████████████| 81 kB 8.8 MB/s \n",
            "\u001b[?25hCollecting colorlog\n",
            "  Downloading colorlog-6.6.0-py2.py3-none-any.whl (11 kB)\n",
            "Requirement already satisfied: pyparsing!=3.0.5,>=2.0.2 in /usr/local/lib/python3.7/dist-packages (from packaging>=20.0->optuna) (3.0.8)\n",
            "Requirement already satisfied: greenlet!=0.4.17 in /usr/local/lib/python3.7/dist-packages (from sqlalchemy>=1.1.0->optuna) (1.1.2)\n",
            "Requirement already satisfied: importlib-metadata in /usr/local/lib/python3.7/dist-packages (from sqlalchemy>=1.1.0->optuna) (4.11.3)\n",
            "Collecting Mako\n",
            "  Downloading Mako-1.2.0-py3-none-any.whl (78 kB)\n",
            "\u001b[K     |████████████████████████████████| 78 kB 6.9 MB/s \n",
            "\u001b[?25hRequirement already satisfied: importlib-resources in /usr/local/lib/python3.7/dist-packages (from alembic->optuna) (5.7.1)\n",
            "Collecting stevedore>=2.0.1\n",
            "  Downloading stevedore-3.5.0-py3-none-any.whl (49 kB)\n",
            "\u001b[K     |████████████████████████████████| 49 kB 5.9 MB/s \n",
            "\u001b[?25hCollecting autopage>=0.4.0\n",
            "  Downloading autopage-0.5.0-py3-none-any.whl (29 kB)\n",
            "Requirement already satisfied: PrettyTable>=0.7.2 in /usr/local/lib/python3.7/dist-packages (from cliff->optuna) (3.2.0)\n",
            "Collecting cmd2>=1.0.0\n",
            "  Downloading cmd2-2.4.1-py3-none-any.whl (146 kB)\n",
            "\u001b[K     |████████████████████████████████| 146 kB 66.1 MB/s \n",
            "\u001b[?25hCollecting pbr!=2.1.0,>=2.0.0\n",
            "  Downloading pbr-5.9.0-py2.py3-none-any.whl (112 kB)\n",
            "\u001b[K     |████████████████████████████████| 112 kB 58.1 MB/s \n",
            "\u001b[?25hRequirement already satisfied: wcwidth>=0.1.7 in /usr/local/lib/python3.7/dist-packages (from cmd2>=1.0.0->cliff->optuna) (0.2.5)\n",
            "Collecting pyperclip>=1.6\n",
            "  Downloading pyperclip-1.8.2.tar.gz (20 kB)\n",
            "Requirement already satisfied: attrs>=16.3.0 in /usr/local/lib/python3.7/dist-packages (from cmd2>=1.0.0->cliff->optuna) (21.4.0)\n",
            "Requirement already satisfied: typing-extensions in /usr/local/lib/python3.7/dist-packages (from cmd2>=1.0.0->cliff->optuna) (4.2.0)\n",
            "Requirement already satisfied: zipp>=0.5 in /usr/local/lib/python3.7/dist-packages (from importlib-metadata->sqlalchemy>=1.1.0->optuna) (3.8.0)\n",
            "Requirement already satisfied: MarkupSafe>=0.9.2 in /usr/local/lib/python3.7/dist-packages (from Mako->alembic->optuna) (2.0.1)\n",
            "Building wheels for collected packages: pyperclip\n",
            "  Building wheel for pyperclip (setup.py) ... \u001b[?25l\u001b[?25hdone\n",
            "  Created wheel for pyperclip: filename=pyperclip-1.8.2-py3-none-any.whl size=11137 sha256=44a4aff64ba57e4349b99bd2d005446ff4cd0de60bbd0fab86010f328e7f5538\n",
            "  Stored in directory: /root/.cache/pip/wheels/9f/18/84/8f69f8b08169c7bae2dde6bd7daf0c19fca8c8e500ee620a28\n",
            "Successfully built pyperclip\n",
            "Installing collected packages: pyperclip, pbr, stevedore, Mako, cmd2, autopage, colorlog, cmaes, cliff, alembic, optuna\n",
            "Successfully installed Mako-1.2.0 alembic-1.7.7 autopage-0.5.0 cliff-3.10.1 cmaes-0.8.2 cmd2-2.4.1 colorlog-6.6.0 optuna-2.10.0 pbr-5.9.0 pyperclip-1.8.2 stevedore-3.5.0\n"
          ]
        }
      ]
    },
    {
      "cell_type": "code",
      "source": [
        "import optuna\n",
        "import xgboost as xgb\n",
        "from sklearn.metrics import mean_squared_error\n",
        "from sklearn.model_selection import train_test_split\n",
        "\n",
        "def objective(trial, X=X, y=y):\n",
        "    \"\"\"\n",
        "    A function to train a model using different hyperparamerters combinations provided by Optuna.\n",
        "    \"\"\"\n",
        "    X_train, X_valid, y_train, y_valid = train_test_split(X, y, test_size=0.4)\n",
        "\n",
        "    params = {\n",
        "        'max_depth': trial.suggest_int('max_depth', 6, 15),\n",
        "        \"subsample\": trial.suggest_float(\"subsample\", 0.2, 1.0),\n",
        "        'n_estimators': trial.suggest_int('n_estimators', 500, 2000, 100),\n",
        "        'eta': trial.suggest_float(\"eta\", 1e-8, 1.0, log=True),\n",
        "        'alpha': trial.suggest_float('alpha', 1e-8, 1.0, log=True),\n",
        "        'lambda': trial.suggest_float('lambda', 1e-8, 1.0, log=True),\n",
        "        'gamma': trial.suggest_float(\"gamma\", 1e-8, 1.0, log=True),\n",
        "        'min_child_weight': trial.suggest_int('min_child_weight', 2, 10),\n",
        "        'grow_policy': trial.suggest_categorical(\"grow_policy\", [\"depthwise\", \"lossguide\"]),\n",
        "        \"colsample_bytree\": trial.suggest_float(\"colsample_bytree\", 0.2, 1.0)\n",
        "    }\n",
        "\n",
        "    reg = xgb.XGBRegressor(**params)\n",
        "    reg.fit(X_train, y_train,\n",
        "            eval_set=[(X_valid, y_valid)], eval_metric='rmse',\n",
        "            verbose=False)\n",
        "    return mean_squared_error(y_valid, reg.predict(X_valid), squared=False)"
      ],
      "metadata": {
        "id": "l3ZOdVMHc5ph"
      },
      "execution_count": null,
      "outputs": []
    },
    {
      "cell_type": "code",
      "source": [
        "%%time\n",
        "# Creating Optuna object and defining its parameters\n",
        "study = optuna.create_study(direction='minimize')\n",
        "study.optimize(objective, n_trials = 10)\n",
        "\n",
        "# Showing optimization results\n",
        "print('Number of finished trials:', len(study.trials))\n",
        "print('Best trial parameters:', study.best_trial.params)\n",
        "print('Best score:', study.best_value)"
      ],
      "metadata": {
        "id": "ZnrlFfLBdCHP"
      },
      "execution_count": null,
      "outputs": []
    }
  ]
}