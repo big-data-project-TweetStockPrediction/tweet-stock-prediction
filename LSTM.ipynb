{
  "nbformat": 4,
  "nbformat_minor": 0,
  "metadata": {
    "colab": {
      "name": "LSTM.ipynb",
      "provenance": [],
      "collapsed_sections": []
    },
    "kernelspec": {
      "name": "python3",
      "display_name": "Python 3"
    },
    "language_info": {
      "name": "python"
    }
  },
  "cells": [
    {
      "cell_type": "code",
      "source": [
        "!pip3 install yfinance"
      ],
      "metadata": {
        "colab": {
          "base_uri": "https://localhost:8080/"
        },
        "id": "emxZxrpHdOOH",
        "outputId": "edade6fa-6013-4448-8676-d354d713a466"
      },
      "execution_count": null,
      "outputs": [
        {
          "output_type": "stream",
          "name": "stdout",
          "text": [
            "Requirement already satisfied: yfinance in /usr/local/lib/python3.7/dist-packages (0.1.70)\n",
            "Requirement already satisfied: multitasking>=0.0.7 in /usr/local/lib/python3.7/dist-packages (from yfinance) (0.0.10)\n",
            "Requirement already satisfied: pandas>=0.24.0 in /usr/local/lib/python3.7/dist-packages (from yfinance) (1.3.5)\n",
            "Requirement already satisfied: requests>=2.26 in /usr/local/lib/python3.7/dist-packages (from yfinance) (2.27.1)\n",
            "Requirement already satisfied: numpy>=1.15 in /usr/local/lib/python3.7/dist-packages (from yfinance) (1.21.6)\n",
            "Requirement already satisfied: lxml>=4.5.1 in /usr/local/lib/python3.7/dist-packages (from yfinance) (4.8.0)\n",
            "Requirement already satisfied: pytz>=2017.3 in /usr/local/lib/python3.7/dist-packages (from pandas>=0.24.0->yfinance) (2022.1)\n",
            "Requirement already satisfied: python-dateutil>=2.7.3 in /usr/local/lib/python3.7/dist-packages (from pandas>=0.24.0->yfinance) (2.8.2)\n",
            "Requirement already satisfied: six>=1.5 in /usr/local/lib/python3.7/dist-packages (from python-dateutil>=2.7.3->pandas>=0.24.0->yfinance) (1.15.0)\n",
            "Requirement already satisfied: idna<4,>=2.5 in /usr/local/lib/python3.7/dist-packages (from requests>=2.26->yfinance) (2.10)\n",
            "Requirement already satisfied: charset-normalizer~=2.0.0 in /usr/local/lib/python3.7/dist-packages (from requests>=2.26->yfinance) (2.0.12)\n",
            "Requirement already satisfied: urllib3<1.27,>=1.21.1 in /usr/local/lib/python3.7/dist-packages (from requests>=2.26->yfinance) (1.24.3)\n",
            "Requirement already satisfied: certifi>=2017.4.17 in /usr/local/lib/python3.7/dist-packages (from requests>=2.26->yfinance) (2021.10.8)\n"
          ]
        }
      ]
    },
    {
      "cell_type": "code",
      "execution_count": null,
      "metadata": {
        "id": "A3GmB44_csJB"
      },
      "outputs": [],
      "source": [
        "import pandas as pd\n",
        "import numpy as np\n",
        "\n",
        "import matplotlib.pyplot as plt\n",
        "import seaborn as sns\n",
        "sns.set_style('whitegrid')\n",
        "plt.style.use(\"fivethirtyeight\")\n",
        "%matplotlib inline\n",
        "\n",
        "# For reading stock data from yahoo\n",
        "from pandas_datareader.data import DataReader\n",
        "import yfinance as yf\n",
        "\n",
        "# For time stamps\n",
        "from datetime import datetime"
      ]
    },
    {
      "cell_type": "code",
      "source": [
        "# The tech stocks we'll use for this analysis\n",
        "# tech_list = ['AAPL', 'GOOG', 'MSFT', 'AMZN']\n",
        "tech_list = ['TSLA']\n",
        "\n",
        "end = datetime.now()\n",
        "end = datetime(end.year, end.month - 1, end.day)\n",
        "start = datetime(end.year - 1, end.month, end.day)\n",
        "\n",
        "for stock in tech_list:\n",
        "    globals()[stock] = yf.download(stock, start, end)"
      ],
      "metadata": {
        "colab": {
          "base_uri": "https://localhost:8080/"
        },
        "id": "P0V5RUDadMEl",
        "outputId": "fac8b462-0ded-4132-aa4d-00a021f62d49"
      },
      "execution_count": null,
      "outputs": [
        {
          "output_type": "stream",
          "name": "stdout",
          "text": [
            "\r[*********************100%***********************]  1 of 1 completed\n"
          ]
        }
      ]
    },
    {
      "cell_type": "code",
      "source": [
        "# company_list = [AAPL, GOOG, MSFT, AMZN]\n",
        "# company_name = [\"APPLE\", \"GOOGLE\", \"MICROSOFT\", \"AMAZON\"]\n",
        "company_list = [TSLA]\n",
        "company_name = [\"TESLA\"]\n",
        "for company, com_name in zip(company_list, company_name):\n",
        "    company[\"company_name\"] = com_name\n",
        "    \n",
        "df = pd.concat(company_list, axis=0)\n",
        "df.tail(10)"
      ],
      "metadata": {
        "colab": {
          "base_uri": "https://localhost:8080/",
          "height": 390
        },
        "id": "siYuddUQ-AGI",
        "outputId": "b93ce5d1-4fff-4af4-f169-07fc172c3550"
      },
      "execution_count": null,
      "outputs": [
        {
          "output_type": "execute_result",
          "data": {
            "text/plain": [
              "                   Open         High          Low        Close    Adj Close  \\\n",
              "Date                                                                          \n",
              "2022-03-28  1065.099976  1097.880005  1053.599976  1091.839966  1091.839966   \n",
              "2022-03-29  1107.989990  1114.770020  1073.109985  1099.569946  1099.569946   \n",
              "2022-03-30  1091.170044  1113.949951  1084.000000  1093.989990  1093.989990   \n",
              "2022-03-31  1094.569946  1103.140015  1076.640015  1077.599976  1077.599976   \n",
              "2022-04-01  1081.150024  1094.750000  1066.640015  1084.589966  1084.589966   \n",
              "2022-04-04  1089.380005  1149.910034  1072.530029  1145.449951  1145.449951   \n",
              "2022-04-05  1136.300049  1152.869995  1087.300049  1091.260010  1091.260010   \n",
              "2022-04-06  1073.469971  1079.000000  1027.699951  1045.760010  1045.760010   \n",
              "2022-04-07  1052.390015  1076.589966  1021.539978  1057.260010  1057.260010   \n",
              "2022-04-08  1043.209961  1048.439941  1022.440002  1025.489990  1025.489990   \n",
              "\n",
              "              Volume company_name  \n",
              "Date                               \n",
              "2022-03-28  34168700        TESLA  \n",
              "2022-03-29  24538300        TESLA  \n",
              "2022-03-30  19955000        TESLA  \n",
              "2022-03-31  16330900        TESLA  \n",
              "2022-04-01  18012900        TESLA  \n",
              "2022-04-04  27345300        TESLA  \n",
              "2022-04-05  26691700        TESLA  \n",
              "2022-04-06  29782800        TESLA  \n",
              "2022-04-07  26482400        TESLA  \n",
              "2022-04-08  18293300        TESLA  "
            ],
            "text/html": [
              "\n",
              "  <div id=\"df-8ad7dd5c-9547-4132-9fb2-21b17db559a8\">\n",
              "    <div class=\"colab-df-container\">\n",
              "      <div>\n",
              "<style scoped>\n",
              "    .dataframe tbody tr th:only-of-type {\n",
              "        vertical-align: middle;\n",
              "    }\n",
              "\n",
              "    .dataframe tbody tr th {\n",
              "        vertical-align: top;\n",
              "    }\n",
              "\n",
              "    .dataframe thead th {\n",
              "        text-align: right;\n",
              "    }\n",
              "</style>\n",
              "<table border=\"1\" class=\"dataframe\">\n",
              "  <thead>\n",
              "    <tr style=\"text-align: right;\">\n",
              "      <th></th>\n",
              "      <th>Open</th>\n",
              "      <th>High</th>\n",
              "      <th>Low</th>\n",
              "      <th>Close</th>\n",
              "      <th>Adj Close</th>\n",
              "      <th>Volume</th>\n",
              "      <th>company_name</th>\n",
              "    </tr>\n",
              "    <tr>\n",
              "      <th>Date</th>\n",
              "      <th></th>\n",
              "      <th></th>\n",
              "      <th></th>\n",
              "      <th></th>\n",
              "      <th></th>\n",
              "      <th></th>\n",
              "      <th></th>\n",
              "    </tr>\n",
              "  </thead>\n",
              "  <tbody>\n",
              "    <tr>\n",
              "      <th>2022-03-28</th>\n",
              "      <td>1065.099976</td>\n",
              "      <td>1097.880005</td>\n",
              "      <td>1053.599976</td>\n",
              "      <td>1091.839966</td>\n",
              "      <td>1091.839966</td>\n",
              "      <td>34168700</td>\n",
              "      <td>TESLA</td>\n",
              "    </tr>\n",
              "    <tr>\n",
              "      <th>2022-03-29</th>\n",
              "      <td>1107.989990</td>\n",
              "      <td>1114.770020</td>\n",
              "      <td>1073.109985</td>\n",
              "      <td>1099.569946</td>\n",
              "      <td>1099.569946</td>\n",
              "      <td>24538300</td>\n",
              "      <td>TESLA</td>\n",
              "    </tr>\n",
              "    <tr>\n",
              "      <th>2022-03-30</th>\n",
              "      <td>1091.170044</td>\n",
              "      <td>1113.949951</td>\n",
              "      <td>1084.000000</td>\n",
              "      <td>1093.989990</td>\n",
              "      <td>1093.989990</td>\n",
              "      <td>19955000</td>\n",
              "      <td>TESLA</td>\n",
              "    </tr>\n",
              "    <tr>\n",
              "      <th>2022-03-31</th>\n",
              "      <td>1094.569946</td>\n",
              "      <td>1103.140015</td>\n",
              "      <td>1076.640015</td>\n",
              "      <td>1077.599976</td>\n",
              "      <td>1077.599976</td>\n",
              "      <td>16330900</td>\n",
              "      <td>TESLA</td>\n",
              "    </tr>\n",
              "    <tr>\n",
              "      <th>2022-04-01</th>\n",
              "      <td>1081.150024</td>\n",
              "      <td>1094.750000</td>\n",
              "      <td>1066.640015</td>\n",
              "      <td>1084.589966</td>\n",
              "      <td>1084.589966</td>\n",
              "      <td>18012900</td>\n",
              "      <td>TESLA</td>\n",
              "    </tr>\n",
              "    <tr>\n",
              "      <th>2022-04-04</th>\n",
              "      <td>1089.380005</td>\n",
              "      <td>1149.910034</td>\n",
              "      <td>1072.530029</td>\n",
              "      <td>1145.449951</td>\n",
              "      <td>1145.449951</td>\n",
              "      <td>27345300</td>\n",
              "      <td>TESLA</td>\n",
              "    </tr>\n",
              "    <tr>\n",
              "      <th>2022-04-05</th>\n",
              "      <td>1136.300049</td>\n",
              "      <td>1152.869995</td>\n",
              "      <td>1087.300049</td>\n",
              "      <td>1091.260010</td>\n",
              "      <td>1091.260010</td>\n",
              "      <td>26691700</td>\n",
              "      <td>TESLA</td>\n",
              "    </tr>\n",
              "    <tr>\n",
              "      <th>2022-04-06</th>\n",
              "      <td>1073.469971</td>\n",
              "      <td>1079.000000</td>\n",
              "      <td>1027.699951</td>\n",
              "      <td>1045.760010</td>\n",
              "      <td>1045.760010</td>\n",
              "      <td>29782800</td>\n",
              "      <td>TESLA</td>\n",
              "    </tr>\n",
              "    <tr>\n",
              "      <th>2022-04-07</th>\n",
              "      <td>1052.390015</td>\n",
              "      <td>1076.589966</td>\n",
              "      <td>1021.539978</td>\n",
              "      <td>1057.260010</td>\n",
              "      <td>1057.260010</td>\n",
              "      <td>26482400</td>\n",
              "      <td>TESLA</td>\n",
              "    </tr>\n",
              "    <tr>\n",
              "      <th>2022-04-08</th>\n",
              "      <td>1043.209961</td>\n",
              "      <td>1048.439941</td>\n",
              "      <td>1022.440002</td>\n",
              "      <td>1025.489990</td>\n",
              "      <td>1025.489990</td>\n",
              "      <td>18293300</td>\n",
              "      <td>TESLA</td>\n",
              "    </tr>\n",
              "  </tbody>\n",
              "</table>\n",
              "</div>\n",
              "      <button class=\"colab-df-convert\" onclick=\"convertToInteractive('df-8ad7dd5c-9547-4132-9fb2-21b17db559a8')\"\n",
              "              title=\"Convert this dataframe to an interactive table.\"\n",
              "              style=\"display:none;\">\n",
              "        \n",
              "  <svg xmlns=\"http://www.w3.org/2000/svg\" height=\"24px\"viewBox=\"0 0 24 24\"\n",
              "       width=\"24px\">\n",
              "    <path d=\"M0 0h24v24H0V0z\" fill=\"none\"/>\n",
              "    <path d=\"M18.56 5.44l.94 2.06.94-2.06 2.06-.94-2.06-.94-.94-2.06-.94 2.06-2.06.94zm-11 1L8.5 8.5l.94-2.06 2.06-.94-2.06-.94L8.5 2.5l-.94 2.06-2.06.94zm10 10l.94 2.06.94-2.06 2.06-.94-2.06-.94-.94-2.06-.94 2.06-2.06.94z\"/><path d=\"M17.41 7.96l-1.37-1.37c-.4-.4-.92-.59-1.43-.59-.52 0-1.04.2-1.43.59L10.3 9.45l-7.72 7.72c-.78.78-.78 2.05 0 2.83L4 21.41c.39.39.9.59 1.41.59.51 0 1.02-.2 1.41-.59l7.78-7.78 2.81-2.81c.8-.78.8-2.07 0-2.86zM5.41 20L4 18.59l7.72-7.72 1.47 1.35L5.41 20z\"/>\n",
              "  </svg>\n",
              "      </button>\n",
              "      \n",
              "  <style>\n",
              "    .colab-df-container {\n",
              "      display:flex;\n",
              "      flex-wrap:wrap;\n",
              "      gap: 12px;\n",
              "    }\n",
              "\n",
              "    .colab-df-convert {\n",
              "      background-color: #E8F0FE;\n",
              "      border: none;\n",
              "      border-radius: 50%;\n",
              "      cursor: pointer;\n",
              "      display: none;\n",
              "      fill: #1967D2;\n",
              "      height: 32px;\n",
              "      padding: 0 0 0 0;\n",
              "      width: 32px;\n",
              "    }\n",
              "\n",
              "    .colab-df-convert:hover {\n",
              "      background-color: #E2EBFA;\n",
              "      box-shadow: 0px 1px 2px rgba(60, 64, 67, 0.3), 0px 1px 3px 1px rgba(60, 64, 67, 0.15);\n",
              "      fill: #174EA6;\n",
              "    }\n",
              "\n",
              "    [theme=dark] .colab-df-convert {\n",
              "      background-color: #3B4455;\n",
              "      fill: #D2E3FC;\n",
              "    }\n",
              "\n",
              "    [theme=dark] .colab-df-convert:hover {\n",
              "      background-color: #434B5C;\n",
              "      box-shadow: 0px 1px 3px 1px rgba(0, 0, 0, 0.15);\n",
              "      filter: drop-shadow(0px 1px 2px rgba(0, 0, 0, 0.3));\n",
              "      fill: #FFFFFF;\n",
              "    }\n",
              "  </style>\n",
              "\n",
              "      <script>\n",
              "        const buttonEl =\n",
              "          document.querySelector('#df-8ad7dd5c-9547-4132-9fb2-21b17db559a8 button.colab-df-convert');\n",
              "        buttonEl.style.display =\n",
              "          google.colab.kernel.accessAllowed ? 'block' : 'none';\n",
              "\n",
              "        async function convertToInteractive(key) {\n",
              "          const element = document.querySelector('#df-8ad7dd5c-9547-4132-9fb2-21b17db559a8');\n",
              "          const dataTable =\n",
              "            await google.colab.kernel.invokeFunction('convertToInteractive',\n",
              "                                                     [key], {});\n",
              "          if (!dataTable) return;\n",
              "\n",
              "          const docLinkHtml = 'Like what you see? Visit the ' +\n",
              "            '<a target=\"_blank\" href=https://colab.research.google.com/notebooks/data_table.ipynb>data table notebook</a>'\n",
              "            + ' to learn more about interactive tables.';\n",
              "          element.innerHTML = '';\n",
              "          dataTable['output_type'] = 'display_data';\n",
              "          await google.colab.output.renderOutput(dataTable, element);\n",
              "          const docLink = document.createElement('div');\n",
              "          docLink.innerHTML = docLinkHtml;\n",
              "          element.appendChild(docLink);\n",
              "        }\n",
              "      </script>\n",
              "    </div>\n",
              "  </div>\n",
              "  "
            ]
          },
          "metadata": {},
          "execution_count": 20
        }
      ]
    },
    {
      "cell_type": "code",
      "source": [
        "# ma_day = [10, 20, 50] #stock price moving average peroid\n",
        "\n",
        "# for ma in ma_day:\n",
        "#     for company in company_list:\n",
        "#         column_name = f\"MA for {ma} days\"\n",
        "#         company[column_name] = company['Adj Close'].rolling(ma).mean()"
      ],
      "metadata": {
        "id": "ynnI8bijjawP"
      },
      "execution_count": null,
      "outputs": []
    },
    {
      "cell_type": "code",
      "source": [
        "# # We'll use pct_change to find the percent change for each day\n",
        "# for company in company_list:\n",
        "#     company['Daily Return'] = company['Adj Close'].pct_change()\n"
      ],
      "metadata": {
        "id": "2bd82sW2joeZ"
      },
      "execution_count": null,
      "outputs": []
    },
    {
      "cell_type": "code",
      "source": [
        "from pandas_datareader import data as pdr\n",
        "yf.pdr_override()\n",
        "#closing stock price\n",
        "closing_df = pdr.get_data_yahoo(tech_list, start=start,end=end)['Adj Close']\n",
        "\n",
        "\n",
        "# Make a new tech returns DataFrame\n",
        "tech_rets = closing_df.pct_change()\n",
        "rets = tech_rets.dropna()"
      ],
      "metadata": {
        "colab": {
          "base_uri": "https://localhost:8080/"
        },
        "id": "qCKLOuvfjs9v",
        "outputId": "57f08bda-a0d5-4e17-d930-1606d0251421"
      },
      "execution_count": null,
      "outputs": [
        {
          "output_type": "stream",
          "name": "stdout",
          "text": [
            "\r[*********************100%***********************]  1 of 1 completed\n"
          ]
        }
      ]
    },
    {
      "cell_type": "code",
      "source": [
        "# Get the stock quote\n",
        "closing_df = pdr.get_data_yahoo(tech_list, start=start,end=end)['Adj Close']\n"
      ],
      "metadata": {
        "colab": {
          "base_uri": "https://localhost:8080/"
        },
        "id": "ChNKOesds7tA",
        "outputId": "c6820684-1f54-4e26-affa-dcfb74c42cd3"
      },
      "execution_count": null,
      "outputs": [
        {
          "output_type": "stream",
          "name": "stdout",
          "text": [
            "\r[*********************100%***********************]  1 of 1 completed\n"
          ]
        }
      ]
    },
    {
      "cell_type": "code",
      "source": [
        "# Create a new dataframe with only the 'Close column \n",
        "data = df.filter(['Close'])\n",
        "# Convert the dataframe to a numpy array\n",
        "dataset = data.values\n",
        "# Get the number of rows to train the model on\n",
        "training_data_len = int(np.ceil( len(dataset) * .9 )) #get 95% of the data to train\n",
        "\n",
        "training_data_len"
      ],
      "metadata": {
        "colab": {
          "base_uri": "https://localhost:8080/"
        },
        "id": "4M2QmdBqtTLY",
        "outputId": "1d96c362-450f-419d-dbb5-41a1b4c9eb3d"
      },
      "execution_count": 32,
      "outputs": [
        {
          "output_type": "execute_result",
          "data": {
            "text/plain": [
              "229"
            ]
          },
          "metadata": {},
          "execution_count": 32
        }
      ]
    },
    {
      "cell_type": "code",
      "source": [
        "# Scale the data\n",
        "from sklearn.preprocessing import MinMaxScaler\n",
        "\n",
        "scaler = MinMaxScaler(feature_range=(0,1))#MinMaxScaler最小最大值標準化\n",
        "scaled_data = scaler.fit_transform(dataset)\n"
      ],
      "metadata": {
        "id": "mmLtoyBOteJ1"
      },
      "execution_count": 33,
      "outputs": []
    },
    {
      "cell_type": "code",
      "source": [
        "# Create the training data set \n",
        "# Create the scaled training data set\n",
        "train_data = scaled_data[0:int(training_data_len), :]\n",
        "# Split the data into x_train and y_train data sets\n",
        "x_train = []\n",
        "y_train = []\n",
        "\n",
        "for i in range(60, len(train_data)):\n",
        "    x_train.append(train_data[i-60:i, 0])\n",
        "    y_train.append(train_data[i, 0])\n",
        "    if i<= 61:\n",
        "        print(x_train)\n",
        "        print(y_train)\n",
        "        print()\n",
        "        \n",
        "# Convert the x_train and y_train to numpy arrays \n",
        "x_train, y_train = np.array(x_train), np.array(y_train)\n",
        "\n",
        "# Reshape the data\n",
        "x_train = np.reshape(x_train, (x_train.shape[0], x_train.shape[1], 1))\n"
      ],
      "metadata": {
        "colab": {
          "base_uri": "https://localhost:8080/"
        },
        "id": "dTnEuCgmtjen",
        "outputId": "95de81eb-a1e1-485a-995f-e4589df56c90"
      },
      "execution_count": 36,
      "outputs": [
        {
          "output_type": "stream",
          "name": "stdout",
          "text": [
            "[array([0.17039537, 0.20784748, 0.29838695, 0.25323724, 0.26317046,\n",
            "       0.26456599, 0.22682869, 0.23337079, 0.27107806, 0.23442115,\n",
            "       0.24899092, 0.26219519, 0.21198884, 0.19647385, 0.17036533,\n",
            "       0.21904116, 0.18221922, 0.16526364, 0.16127238, 0.15016874,\n",
            "       0.16341807, 0.09840191, 0.08063619, 0.03965788, 0.01234898,\n",
            "       0.03943277, 0.02006151, 0.02162199, 0.        , 0.03499138,\n",
            "       0.02613847, 0.06449093, 0.06186508, 0.08353212, 0.10111779,\n",
            "       0.09267004, 0.09068948, 0.06251027, 0.01407458, 0.0534023 ,\n",
            "       0.06252529, 0.06021458, 0.05299723, 0.07001271, 0.06966763,\n",
            "       0.08137141, 0.05386745, 0.06213515, 0.07973584, 0.08980415,\n",
            "       0.08608297, 0.09040438, 0.13971038, 0.17459672, 0.16266782,\n",
            "       0.187951  , 0.17600718, 0.17441667, 0.17174576, 0.1732163 ])]\n",
            "[0.14422686376563232]\n",
            "\n",
            "[array([0.17039537, 0.20784748, 0.29838695, 0.25323724, 0.26317046,\n",
            "       0.26456599, 0.22682869, 0.23337079, 0.27107806, 0.23442115,\n",
            "       0.24899092, 0.26219519, 0.21198884, 0.19647385, 0.17036533,\n",
            "       0.21904116, 0.18221922, 0.16526364, 0.16127238, 0.15016874,\n",
            "       0.16341807, 0.09840191, 0.08063619, 0.03965788, 0.01234898,\n",
            "       0.03943277, 0.02006151, 0.02162199, 0.        , 0.03499138,\n",
            "       0.02613847, 0.06449093, 0.06186508, 0.08353212, 0.10111779,\n",
            "       0.09267004, 0.09068948, 0.06251027, 0.01407458, 0.0534023 ,\n",
            "       0.06252529, 0.06021458, 0.05299723, 0.07001271, 0.06966763,\n",
            "       0.08137141, 0.05386745, 0.06213515, 0.07973584, 0.08980415,\n",
            "       0.08608297, 0.09040438, 0.13971038, 0.17459672, 0.16266782,\n",
            "       0.187951  , 0.17600718, 0.17441667, 0.17174576, 0.1732163 ]), array([0.20784748, 0.29838695, 0.25323724, 0.26317046, 0.26456599,\n",
            "       0.22682869, 0.23337079, 0.27107806, 0.23442115, 0.24899092,\n",
            "       0.26219519, 0.21198884, 0.19647385, 0.17036533, 0.21904116,\n",
            "       0.18221922, 0.16526364, 0.16127238, 0.15016874, 0.16341807,\n",
            "       0.09840191, 0.08063619, 0.03965788, 0.01234898, 0.03943277,\n",
            "       0.02006151, 0.02162199, 0.        , 0.03499138, 0.02613847,\n",
            "       0.06449093, 0.06186508, 0.08353212, 0.10111779, 0.09267004,\n",
            "       0.09068948, 0.06251027, 0.01407458, 0.0534023 , 0.06252529,\n",
            "       0.06021458, 0.05299723, 0.07001271, 0.06966763, 0.08137141,\n",
            "       0.05386745, 0.06213515, 0.07973584, 0.08980415, 0.08608297,\n",
            "       0.09040438, 0.13971038, 0.17459672, 0.16266782, 0.187951  ,\n",
            "       0.17600718, 0.17441667, 0.17174576, 0.1732163 , 0.14422686])]\n",
            "[0.14422686376563232, 0.12182459442462246]\n",
            "\n"
          ]
        }
      ]
    },
    {
      "cell_type": "code",
      "source": [
        "from keras.models import Sequential\n",
        "from keras.layers import Dense, LSTM\n",
        "\n",
        "# Build the LSTM model\n",
        "model = Sequential()\n",
        "model.add(LSTM(128, return_sequences=True, input_shape= (x_train.shape[1], 1)))\n",
        "model.add(LSTM(64, return_sequences=False))\n",
        "model.add(Dense(25))\n",
        "model.add(Dense(1))\n",
        "\n",
        "# Compile the model\n",
        "model.compile(optimizer='adam', loss='mean_squared_error')\n",
        "\n",
        "# Train the model\n",
        "model.fit(x_train, y_train, batch_size=1, epochs=1)"
      ],
      "metadata": {
        "colab": {
          "base_uri": "https://localhost:8080/"
        },
        "id": "PB7QELMDtnNz",
        "outputId": "0c2925fd-2352-4d2d-cf27-c926b2d5c235"
      },
      "execution_count": 37,
      "outputs": [
        {
          "output_type": "stream",
          "name": "stdout",
          "text": [
            "169/169 [==============================] - 10s 46ms/step - loss: 0.0202\n"
          ]
        },
        {
          "output_type": "execute_result",
          "data": {
            "text/plain": [
              "<keras.callbacks.History at 0x7f941ef6c7d0>"
            ]
          },
          "metadata": {},
          "execution_count": 37
        }
      ]
    },
    {
      "cell_type": "code",
      "source": [
        "# Create the testing data set\n",
        "# Create a new array containing scaled values from index 1543 to 2002 \n",
        "test_data = scaled_data[training_data_len - 60: , :]\n",
        "# Create the data sets x_test and y_test\n",
        "x_test = []\n",
        "y_test = dataset[training_data_len:, :]\n",
        "for i in range(60, len(test_data)):\n",
        "    x_test.append(test_data[i-60:i, 0])\n",
        "    \n",
        "# Convert the data to a numpy array\n",
        "x_test = np.array(x_test)\n",
        "\n",
        "# Reshape the data\n",
        "x_test = np.reshape(x_test, (x_test.shape[0], x_test.shape[1], 1 ))\n",
        "\n",
        "# Get the models predicted price values \n",
        "predictions = model.predict(x_test)\n",
        "predictions = scaler.inverse_transform(predictions)\n",
        "\n",
        "# Get the root mean squared error (RMSE)\n",
        "rmse = np.sqrt(np.mean(((predictions - y_test) ** 2)))\n",
        "rmse"
      ],
      "metadata": {
        "colab": {
          "base_uri": "https://localhost:8080/"
        },
        "id": "UaRqejBWtqms",
        "outputId": "3a1f091f-ad08-43c2-e33b-0a3f166d83b0"
      },
      "execution_count": 38,
      "outputs": [
        {
          "output_type": "execute_result",
          "data": {
            "text/plain": [
              "79.03969680431031"
            ]
          },
          "metadata": {},
          "execution_count": 38
        }
      ]
    },
    {
      "cell_type": "code",
      "source": [
        "# Plot the data\n",
        "data = df.filter(['Close'])\n",
        "train = data[:training_data_len]\n",
        "valid = data[training_data_len:]\n",
        "valid['Predictions'] = predictions\n",
        "valid"
      ],
      "metadata": {
        "colab": {
          "base_uri": "https://localhost:8080/",
          "height": 957
        },
        "id": "6qN9OHV5uTui",
        "outputId": "5a25c693-caef-4b97-a3a0-bf75ad6b55d9"
      },
      "execution_count": 39,
      "outputs": [
        {
          "output_type": "stream",
          "name": "stderr",
          "text": [
            "/usr/local/lib/python3.7/dist-packages/ipykernel_launcher.py:5: SettingWithCopyWarning: \n",
            "A value is trying to be set on a copy of a slice from a DataFrame.\n",
            "Try using .loc[row_indexer,col_indexer] = value instead\n",
            "\n",
            "See the caveats in the documentation: https://pandas.pydata.org/pandas-docs/stable/user_guide/indexing.html#returning-a-view-versus-a-copy\n",
            "  \"\"\"\n"
          ]
        },
        {
          "output_type": "execute_result",
          "data": {
            "text/plain": [
              "                  Close  Predictions\n",
              "Date                                \n",
              "2022-03-07   804.580017   875.380005\n",
              "2022-03-08   824.400024   872.351746\n",
              "2022-03-09   858.969971   869.306091\n",
              "2022-03-10   838.299988   869.062012\n",
              "2022-03-11   795.349976   868.756409\n",
              "2022-03-14   766.369995   865.249207\n",
              "2022-03-15   801.890015   858.196716\n",
              "2022-03-16   840.229980   852.536194\n",
              "2022-03-17   871.599976   850.968994\n",
              "2022-03-18   905.390015   854.106018\n",
              "2022-03-21   921.159973   862.029785\n",
              "2022-03-22   993.979980   872.944519\n",
              "2022-03-23   999.109985   889.900330\n",
              "2022-03-24  1013.919983   908.728271\n",
              "2022-03-25  1010.640015   927.802917\n",
              "2022-03-28  1091.839966   944.793335\n",
              "2022-03-29  1099.569946   965.162354\n",
              "2022-03-30  1093.989990   985.687561\n",
              "2022-03-31  1077.599976  1003.803650\n",
              "2022-04-01  1084.589966  1017.589050\n",
              "2022-04-04  1145.449951  1028.314697\n",
              "2022-04-05  1091.260010  1041.038452\n",
              "2022-04-06  1045.760010  1049.255493\n",
              "2022-04-07  1057.260010  1051.102539\n",
              "2022-04-08  1025.489990  1050.549438"
            ],
            "text/html": [
              "\n",
              "  <div id=\"df-4334376f-abd7-405e-9867-11ae3fa86e4a\">\n",
              "    <div class=\"colab-df-container\">\n",
              "      <div>\n",
              "<style scoped>\n",
              "    .dataframe tbody tr th:only-of-type {\n",
              "        vertical-align: middle;\n",
              "    }\n",
              "\n",
              "    .dataframe tbody tr th {\n",
              "        vertical-align: top;\n",
              "    }\n",
              "\n",
              "    .dataframe thead th {\n",
              "        text-align: right;\n",
              "    }\n",
              "</style>\n",
              "<table border=\"1\" class=\"dataframe\">\n",
              "  <thead>\n",
              "    <tr style=\"text-align: right;\">\n",
              "      <th></th>\n",
              "      <th>Close</th>\n",
              "      <th>Predictions</th>\n",
              "    </tr>\n",
              "    <tr>\n",
              "      <th>Date</th>\n",
              "      <th></th>\n",
              "      <th></th>\n",
              "    </tr>\n",
              "  </thead>\n",
              "  <tbody>\n",
              "    <tr>\n",
              "      <th>2022-03-07</th>\n",
              "      <td>804.580017</td>\n",
              "      <td>875.380005</td>\n",
              "    </tr>\n",
              "    <tr>\n",
              "      <th>2022-03-08</th>\n",
              "      <td>824.400024</td>\n",
              "      <td>872.351746</td>\n",
              "    </tr>\n",
              "    <tr>\n",
              "      <th>2022-03-09</th>\n",
              "      <td>858.969971</td>\n",
              "      <td>869.306091</td>\n",
              "    </tr>\n",
              "    <tr>\n",
              "      <th>2022-03-10</th>\n",
              "      <td>838.299988</td>\n",
              "      <td>869.062012</td>\n",
              "    </tr>\n",
              "    <tr>\n",
              "      <th>2022-03-11</th>\n",
              "      <td>795.349976</td>\n",
              "      <td>868.756409</td>\n",
              "    </tr>\n",
              "    <tr>\n",
              "      <th>2022-03-14</th>\n",
              "      <td>766.369995</td>\n",
              "      <td>865.249207</td>\n",
              "    </tr>\n",
              "    <tr>\n",
              "      <th>2022-03-15</th>\n",
              "      <td>801.890015</td>\n",
              "      <td>858.196716</td>\n",
              "    </tr>\n",
              "    <tr>\n",
              "      <th>2022-03-16</th>\n",
              "      <td>840.229980</td>\n",
              "      <td>852.536194</td>\n",
              "    </tr>\n",
              "    <tr>\n",
              "      <th>2022-03-17</th>\n",
              "      <td>871.599976</td>\n",
              "      <td>850.968994</td>\n",
              "    </tr>\n",
              "    <tr>\n",
              "      <th>2022-03-18</th>\n",
              "      <td>905.390015</td>\n",
              "      <td>854.106018</td>\n",
              "    </tr>\n",
              "    <tr>\n",
              "      <th>2022-03-21</th>\n",
              "      <td>921.159973</td>\n",
              "      <td>862.029785</td>\n",
              "    </tr>\n",
              "    <tr>\n",
              "      <th>2022-03-22</th>\n",
              "      <td>993.979980</td>\n",
              "      <td>872.944519</td>\n",
              "    </tr>\n",
              "    <tr>\n",
              "      <th>2022-03-23</th>\n",
              "      <td>999.109985</td>\n",
              "      <td>889.900330</td>\n",
              "    </tr>\n",
              "    <tr>\n",
              "      <th>2022-03-24</th>\n",
              "      <td>1013.919983</td>\n",
              "      <td>908.728271</td>\n",
              "    </tr>\n",
              "    <tr>\n",
              "      <th>2022-03-25</th>\n",
              "      <td>1010.640015</td>\n",
              "      <td>927.802917</td>\n",
              "    </tr>\n",
              "    <tr>\n",
              "      <th>2022-03-28</th>\n",
              "      <td>1091.839966</td>\n",
              "      <td>944.793335</td>\n",
              "    </tr>\n",
              "    <tr>\n",
              "      <th>2022-03-29</th>\n",
              "      <td>1099.569946</td>\n",
              "      <td>965.162354</td>\n",
              "    </tr>\n",
              "    <tr>\n",
              "      <th>2022-03-30</th>\n",
              "      <td>1093.989990</td>\n",
              "      <td>985.687561</td>\n",
              "    </tr>\n",
              "    <tr>\n",
              "      <th>2022-03-31</th>\n",
              "      <td>1077.599976</td>\n",
              "      <td>1003.803650</td>\n",
              "    </tr>\n",
              "    <tr>\n",
              "      <th>2022-04-01</th>\n",
              "      <td>1084.589966</td>\n",
              "      <td>1017.589050</td>\n",
              "    </tr>\n",
              "    <tr>\n",
              "      <th>2022-04-04</th>\n",
              "      <td>1145.449951</td>\n",
              "      <td>1028.314697</td>\n",
              "    </tr>\n",
              "    <tr>\n",
              "      <th>2022-04-05</th>\n",
              "      <td>1091.260010</td>\n",
              "      <td>1041.038452</td>\n",
              "    </tr>\n",
              "    <tr>\n",
              "      <th>2022-04-06</th>\n",
              "      <td>1045.760010</td>\n",
              "      <td>1049.255493</td>\n",
              "    </tr>\n",
              "    <tr>\n",
              "      <th>2022-04-07</th>\n",
              "      <td>1057.260010</td>\n",
              "      <td>1051.102539</td>\n",
              "    </tr>\n",
              "    <tr>\n",
              "      <th>2022-04-08</th>\n",
              "      <td>1025.489990</td>\n",
              "      <td>1050.549438</td>\n",
              "    </tr>\n",
              "  </tbody>\n",
              "</table>\n",
              "</div>\n",
              "      <button class=\"colab-df-convert\" onclick=\"convertToInteractive('df-4334376f-abd7-405e-9867-11ae3fa86e4a')\"\n",
              "              title=\"Convert this dataframe to an interactive table.\"\n",
              "              style=\"display:none;\">\n",
              "        \n",
              "  <svg xmlns=\"http://www.w3.org/2000/svg\" height=\"24px\"viewBox=\"0 0 24 24\"\n",
              "       width=\"24px\">\n",
              "    <path d=\"M0 0h24v24H0V0z\" fill=\"none\"/>\n",
              "    <path d=\"M18.56 5.44l.94 2.06.94-2.06 2.06-.94-2.06-.94-.94-2.06-.94 2.06-2.06.94zm-11 1L8.5 8.5l.94-2.06 2.06-.94-2.06-.94L8.5 2.5l-.94 2.06-2.06.94zm10 10l.94 2.06.94-2.06 2.06-.94-2.06-.94-.94-2.06-.94 2.06-2.06.94z\"/><path d=\"M17.41 7.96l-1.37-1.37c-.4-.4-.92-.59-1.43-.59-.52 0-1.04.2-1.43.59L10.3 9.45l-7.72 7.72c-.78.78-.78 2.05 0 2.83L4 21.41c.39.39.9.59 1.41.59.51 0 1.02-.2 1.41-.59l7.78-7.78 2.81-2.81c.8-.78.8-2.07 0-2.86zM5.41 20L4 18.59l7.72-7.72 1.47 1.35L5.41 20z\"/>\n",
              "  </svg>\n",
              "      </button>\n",
              "      \n",
              "  <style>\n",
              "    .colab-df-container {\n",
              "      display:flex;\n",
              "      flex-wrap:wrap;\n",
              "      gap: 12px;\n",
              "    }\n",
              "\n",
              "    .colab-df-convert {\n",
              "      background-color: #E8F0FE;\n",
              "      border: none;\n",
              "      border-radius: 50%;\n",
              "      cursor: pointer;\n",
              "      display: none;\n",
              "      fill: #1967D2;\n",
              "      height: 32px;\n",
              "      padding: 0 0 0 0;\n",
              "      width: 32px;\n",
              "    }\n",
              "\n",
              "    .colab-df-convert:hover {\n",
              "      background-color: #E2EBFA;\n",
              "      box-shadow: 0px 1px 2px rgba(60, 64, 67, 0.3), 0px 1px 3px 1px rgba(60, 64, 67, 0.15);\n",
              "      fill: #174EA6;\n",
              "    }\n",
              "\n",
              "    [theme=dark] .colab-df-convert {\n",
              "      background-color: #3B4455;\n",
              "      fill: #D2E3FC;\n",
              "    }\n",
              "\n",
              "    [theme=dark] .colab-df-convert:hover {\n",
              "      background-color: #434B5C;\n",
              "      box-shadow: 0px 1px 3px 1px rgba(0, 0, 0, 0.15);\n",
              "      filter: drop-shadow(0px 1px 2px rgba(0, 0, 0, 0.3));\n",
              "      fill: #FFFFFF;\n",
              "    }\n",
              "  </style>\n",
              "\n",
              "      <script>\n",
              "        const buttonEl =\n",
              "          document.querySelector('#df-4334376f-abd7-405e-9867-11ae3fa86e4a button.colab-df-convert');\n",
              "        buttonEl.style.display =\n",
              "          google.colab.kernel.accessAllowed ? 'block' : 'none';\n",
              "\n",
              "        async function convertToInteractive(key) {\n",
              "          const element = document.querySelector('#df-4334376f-abd7-405e-9867-11ae3fa86e4a');\n",
              "          const dataTable =\n",
              "            await google.colab.kernel.invokeFunction('convertToInteractive',\n",
              "                                                     [key], {});\n",
              "          if (!dataTable) return;\n",
              "\n",
              "          const docLinkHtml = 'Like what you see? Visit the ' +\n",
              "            '<a target=\"_blank\" href=https://colab.research.google.com/notebooks/data_table.ipynb>data table notebook</a>'\n",
              "            + ' to learn more about interactive tables.';\n",
              "          element.innerHTML = '';\n",
              "          dataTable['output_type'] = 'display_data';\n",
              "          await google.colab.output.renderOutput(dataTable, element);\n",
              "          const docLink = document.createElement('div');\n",
              "          docLink.innerHTML = docLinkHtml;\n",
              "          element.appendChild(docLink);\n",
              "        }\n",
              "      </script>\n",
              "    </div>\n",
              "  </div>\n",
              "  "
            ]
          },
          "metadata": {},
          "execution_count": 39
        }
      ]
    },
    {
      "cell_type": "code",
      "source": [
        "#predict today's stock price\n",
        "x_train=[]\n",
        "x_train.append(scaled_data[len(scaled_data)-60:len(scaled_data), :])\n",
        "x_train = np.array(x_train)\n",
        "x_train=np.reshape(x_train, (x_train.shape[0], x_train.shape[1], 1 ))\n",
        "\n",
        "predictions_t = model.predict(x_train)\n",
        "predictions_t = scaler.inverse_transform(predictions_t)\n",
        "print(predictions_t)"
      ],
      "metadata": {
        "colab": {
          "base_uri": "https://localhost:8080/"
        },
        "id": "ZRm26yi9e-9o",
        "outputId": "c6ff4dce-c6cf-4abb-958d-71313187ef66"
      },
      "execution_count": 40,
      "outputs": [
        {
          "output_type": "stream",
          "name": "stdout",
          "text": [
            "[[1046.4283]]\n"
          ]
        }
      ]
    }
  ]
}